{
 "cells": [
  {
   "cell_type": "code",
   "execution_count": 1,
   "metadata": {
    "id": "hfgEEsOTR_X8"
   },
   "outputs": [],
   "source": [
    "# !pip install pycaret"
   ]
  },
  {
   "cell_type": "code",
   "execution_count": 2,
   "metadata": {
    "id": "8QoH4K6r8cTi"
   },
   "outputs": [],
   "source": [
    "# from google.colab import drive\n",
    "# drive.mount('/content/drive')"
   ]
  },
  {
   "cell_type": "code",
   "execution_count": 3,
   "metadata": {
    "colab": {
     "base_uri": "https://localhost:8080/",
     "height": 329
    },
    "id": "peRMsEU31bue",
    "outputId": "cf946e9e-e7c1-48bb-a974-4147e3b8a623"
   },
   "outputs": [],
   "source": [
    "# from pycaret.utils import enable_colab\n",
    "# enable_colab()"
   ]
  },
  {
   "cell_type": "code",
   "execution_count": 4,
   "metadata": {
    "id": "chW3ZVI6dmgj"
   },
   "outputs": [],
   "source": [
    "# !pip install pingouin\n",
    "from pycaret.datasets import get_data\n",
    "import pandas as pd\n",
    "import numpy as np\n",
    "from matplotlib import pyplot as plt\n",
    "from scipy.stats import mannwhitneyu\n",
    "# import pingouin as pg"
   ]
  },
  {
   "cell_type": "code",
   "execution_count": 5,
   "metadata": {
    "id": "-VZGTDvOSmTs"
   },
   "outputs": [],
   "source": [
    "# #!pip install -U -q PyDrive\n",
    "# from pydrive.auth import GoogleAuth\n",
    "# from pydrive.drive import GoogleDrive\n",
    "# from google.colab import auth\n",
    "# from oauth2client.client import GoogleCredentials\n",
    "# # Authenticate and create the PyDrive client.\n",
    "# auth.authenticate_user()\n",
    "# gauth = GoogleAuth()\n",
    "# gauth.credentials = GoogleCredentials.get_application_default()\n",
    "# drive = GoogleDrive(gauth)"
   ]
  },
  {
   "cell_type": "code",
   "execution_count": 6,
   "metadata": {
    "id": "Xcfy7xYmTiHA"
   },
   "outputs": [],
   "source": [
    "# link = 'https://drive.google.com/file/d/1EQWlNJYEis0AfgNejcp_8fFVCDMMdrwE/view?usp=sharing'\n",
    "# fluff, id = link.split('=')\n",
    "# print (id) # Verify that you have everything after '='"
   ]
  },
  {
   "cell_type": "code",
   "execution_count": 7,
   "metadata": {
    "id": "aetODWg3TiLJ"
   },
   "outputs": [],
   "source": [
    "# downloaded = drive.CreateFile({'id':id}) \n",
    "# downloaded.GetContentFile('Filename.csv')  \n",
    "# df3 = pd.read_csv('Filename.csv')\n",
    "# # Dataset is now stored in a Pandas Dataframe\n"
   ]
  },
  {
   "cell_type": "code",
   "execution_count": 8,
   "metadata": {
    "colab": {
     "base_uri": "https://localhost:8080/"
    },
    "id": "6hGSMNihTiNX",
    "outputId": "7e2e6407-94d1-4b2a-a9ac-1389c7a70053"
   },
   "outputs": [
    {
     "name": "stderr",
     "output_type": "stream",
     "text": [
      "/var/folders/08/k5qj0k9j1dbgppb_7vzc5rnm0000gn/T/ipykernel_35878/4185617086.py:2: DtypeWarning: Columns (2,3,5) have mixed types. Specify dtype option on import or set low_memory=False.\n",
      "  df = pd.read_csv(url)\n"
     ]
    }
   ],
   "source": [
    "url = 'https://media.githubusercontent.com/media/maryclarecc/project4/main/2016-2017%20Excel%20(final%20version).csv'\n",
    "df = pd.read_csv(url)\n",
    "df2 = df.replace(\"#NULL!\", 0)\n",
    "# df.head()\n",
    "# df.tail()\n",
    "df2 = df2.drop([\"schoolnum\"], axis = 1)\n",
    "# dfconf.head()"
   ]
  },
  {
   "cell_type": "code",
   "execution_count": 9,
   "metadata": {
    "id": "-7kGdsySkbp0"
   },
   "outputs": [],
   "source": [
    "# notarg = dfconf.drop([\"dx_dep1\"], axis=1)\n",
    "# notarg.head()"
   ]
  },
  {
   "cell_type": "code",
   "execution_count": 10,
   "metadata": {
    "id": "R2gxum9XAGWV"
   },
   "outputs": [],
   "source": [
    "# NEW PROCESSING -- Categorical \"#NULL!\" to NaN\n",
    "# df.loc[ df[\"sex_birth\"] == \"#NULL!\", \"sex_birth\"] = np.nan\n",
    "# df.loc[ df[\"gender\"] == \"#NULL!\", \"gender\"] = np.nan\n",
    "# df.loc[ df[\"sexual\"] == \"#NULL!\", \"sexual\"] = np.nan\n",
    "# df.loc[ df[\"relship\"] == \"#NULL!\", \"relship\"] = np.nan\n",
    "# df.loc[ df[\"schoolnum\"] == \"#NULL!\", \"schoolnum\"] = np.nan\n",
    "# df.loc[ df[\"age\"] == \"#NULL!\", \"age\"] = np.nan\n"
   ]
  },
  {
   "cell_type": "code",
   "execution_count": 11,
   "metadata": {
    "id": "YPx7YT6xAGDY"
   },
   "outputs": [],
   "source": [
    "# NEW PROCESSING -- Categorical NaN replace with blank \"\"\n",
    "# c = df.select_dtypes(np.number).columns\n",
    "# df[c] = df[c].fillna(0)\n",
    "# df = df.fillna(\"\")\n",
    "# df.tail()"
   ]
  },
  {
   "cell_type": "code",
   "execution_count": 12,
   "metadata": {
    "id": "xQfV8lDYi3Fj"
   },
   "outputs": [],
   "source": [
    "df3 = df2.apply(pd.to_numeric)\n",
    "# df3.dtypes.tolist()"
   ]
  },
  {
   "cell_type": "code",
   "execution_count": 13,
   "metadata": {
    "id": "sJE8B8_w2axC"
   },
   "outputs": [
    {
     "data": {
      "text/plain": [
       "(52525, 480)"
      ]
     },
     "execution_count": 13,
     "metadata": {},
     "output_type": "execute_result"
    }
   ],
   "source": [
    "df3['height_total'] = df3['height_ft']*12 + df3['height_in']\n",
    "df3 = df3.loc[df3[\"wgt_lbs\"] < 401,:] \n",
    "df3 = df3.loc[df3[\"height_total\"] < 80,:] \n",
    "df3[\"bmi\"] = df3[\"wgt_lbs\"] / df3['height_total']**2 * 703\n",
    "df3.shape"
   ]
  },
  {
   "cell_type": "code",
   "execution_count": 14,
   "metadata": {
    "id": "vGc73BGC8IkY"
   },
   "outputs": [],
   "source": [
    "# df3[\"wgt_lbs\"].sort_values(ascending=False).head(100)"
   ]
  },
  {
   "cell_type": "code",
   "execution_count": 15,
   "metadata": {
    "id": "bNgwBzMF9Fn0"
   },
   "outputs": [],
   "source": [
    "# df3[\"height_total\"].sort_values(ascending=False).head(100)"
   ]
  },
  {
   "cell_type": "code",
   "execution_count": 16,
   "metadata": {
    "id": "JkmjKhZT8InO"
   },
   "outputs": [
    {
     "data": {
      "text/html": [
       "<div>\n",
       "<style scoped>\n",
       "    .dataframe tbody tr th:only-of-type {\n",
       "        vertical-align: middle;\n",
       "    }\n",
       "\n",
       "    .dataframe tbody tr th {\n",
       "        vertical-align: top;\n",
       "    }\n",
       "\n",
       "    .dataframe thead th {\n",
       "        text-align: right;\n",
       "    }\n",
       "</style>\n",
       "<table border=\"1\" class=\"dataframe\">\n",
       "  <thead>\n",
       "    <tr style=\"text-align: right;\">\n",
       "      <th></th>\n",
       "      <th>age</th>\n",
       "      <th>sex_birth</th>\n",
       "      <th>gender</th>\n",
       "      <th>sexual</th>\n",
       "      <th>relship</th>\n",
       "      <th>race_black</th>\n",
       "      <th>race_ainaan</th>\n",
       "      <th>race_asian</th>\n",
       "      <th>race_his_temp</th>\n",
       "      <th>race_pi</th>\n",
       "      <th>...</th>\n",
       "      <th>sch_RhodeIslandCollege</th>\n",
       "      <th>sch_UNCG</th>\n",
       "      <th>dx_dep1</th>\n",
       "      <th>dx_anx</th>\n",
       "      <th>dx_attl</th>\n",
       "      <th>dx_ea1</th>\n",
       "      <th>dx_psy1</th>\n",
       "      <th>dx_pers</th>\n",
       "      <th>dx_sa1</th>\n",
       "      <th>bmi</th>\n",
       "    </tr>\n",
       "  </thead>\n",
       "  <tbody>\n",
       "    <tr>\n",
       "      <th>0</th>\n",
       "      <td>20.0</td>\n",
       "      <td>1</td>\n",
       "      <td>2</td>\n",
       "      <td>1</td>\n",
       "      <td>1</td>\n",
       "      <td>0</td>\n",
       "      <td>0</td>\n",
       "      <td>0</td>\n",
       "      <td>0</td>\n",
       "      <td>0</td>\n",
       "      <td>...</td>\n",
       "      <td>0</td>\n",
       "      <td>0</td>\n",
       "      <td>0</td>\n",
       "      <td>0</td>\n",
       "      <td>0</td>\n",
       "      <td>0</td>\n",
       "      <td>0</td>\n",
       "      <td>0</td>\n",
       "      <td>0</td>\n",
       "      <td>25.386111</td>\n",
       "    </tr>\n",
       "    <tr>\n",
       "      <th>1</th>\n",
       "      <td>21.0</td>\n",
       "      <td>1</td>\n",
       "      <td>2</td>\n",
       "      <td>1</td>\n",
       "      <td>1</td>\n",
       "      <td>0</td>\n",
       "      <td>0</td>\n",
       "      <td>0</td>\n",
       "      <td>0</td>\n",
       "      <td>0</td>\n",
       "      <td>...</td>\n",
       "      <td>0</td>\n",
       "      <td>0</td>\n",
       "      <td>1</td>\n",
       "      <td>1</td>\n",
       "      <td>0</td>\n",
       "      <td>0</td>\n",
       "      <td>0</td>\n",
       "      <td>0</td>\n",
       "      <td>0</td>\n",
       "      <td>21.031478</td>\n",
       "    </tr>\n",
       "    <tr>\n",
       "      <th>2</th>\n",
       "      <td>35.0</td>\n",
       "      <td>1</td>\n",
       "      <td>2</td>\n",
       "      <td>1</td>\n",
       "      <td>2</td>\n",
       "      <td>0</td>\n",
       "      <td>0</td>\n",
       "      <td>0</td>\n",
       "      <td>0</td>\n",
       "      <td>0</td>\n",
       "      <td>...</td>\n",
       "      <td>0</td>\n",
       "      <td>0</td>\n",
       "      <td>0</td>\n",
       "      <td>0</td>\n",
       "      <td>0</td>\n",
       "      <td>0</td>\n",
       "      <td>0</td>\n",
       "      <td>0</td>\n",
       "      <td>0</td>\n",
       "      <td>35.296306</td>\n",
       "    </tr>\n",
       "    <tr>\n",
       "      <th>3</th>\n",
       "      <td>22.0</td>\n",
       "      <td>2</td>\n",
       "      <td>1</td>\n",
       "      <td>1</td>\n",
       "      <td>1</td>\n",
       "      <td>0</td>\n",
       "      <td>0</td>\n",
       "      <td>0</td>\n",
       "      <td>0</td>\n",
       "      <td>0</td>\n",
       "      <td>...</td>\n",
       "      <td>0</td>\n",
       "      <td>0</td>\n",
       "      <td>1</td>\n",
       "      <td>1</td>\n",
       "      <td>0</td>\n",
       "      <td>0</td>\n",
       "      <td>0</td>\n",
       "      <td>0</td>\n",
       "      <td>0</td>\n",
       "      <td>22.044766</td>\n",
       "    </tr>\n",
       "    <tr>\n",
       "      <th>4</th>\n",
       "      <td>19.0</td>\n",
       "      <td>2</td>\n",
       "      <td>1</td>\n",
       "      <td>1</td>\n",
       "      <td>6</td>\n",
       "      <td>0</td>\n",
       "      <td>0</td>\n",
       "      <td>0</td>\n",
       "      <td>0</td>\n",
       "      <td>0</td>\n",
       "      <td>...</td>\n",
       "      <td>0</td>\n",
       "      <td>0</td>\n",
       "      <td>0</td>\n",
       "      <td>0</td>\n",
       "      <td>1</td>\n",
       "      <td>0</td>\n",
       "      <td>0</td>\n",
       "      <td>0</td>\n",
       "      <td>0</td>\n",
       "      <td>26.443866</td>\n",
       "    </tr>\n",
       "  </tbody>\n",
       "</table>\n",
       "<p>5 rows × 476 columns</p>\n",
       "</div>"
      ],
      "text/plain": [
       "    age  sex_birth  gender  sexual  relship  race_black  race_ainaan  \\\n",
       "0  20.0          1       2       1        1           0            0   \n",
       "1  21.0          1       2       1        1           0            0   \n",
       "2  35.0          1       2       1        2           0            0   \n",
       "3  22.0          2       1       1        1           0            0   \n",
       "4  19.0          2       1       1        6           0            0   \n",
       "\n",
       "   race_asian  race_his_temp  race_pi  ...  sch_RhodeIslandCollege  sch_UNCG  \\\n",
       "0           0              0        0  ...                       0         0   \n",
       "1           0              0        0  ...                       0         0   \n",
       "2           0              0        0  ...                       0         0   \n",
       "3           0              0        0  ...                       0         0   \n",
       "4           0              0        0  ...                       0         0   \n",
       "\n",
       "   dx_dep1  dx_anx  dx_attl  dx_ea1  dx_psy1  dx_pers  dx_sa1        bmi  \n",
       "0        0       0        0       0        0        0       0  25.386111  \n",
       "1        1       1        0       0        0        0       0  21.031478  \n",
       "2        0       0        0       0        0        0       0  35.296306  \n",
       "3        1       1        0       0        0        0       0  22.044766  \n",
       "4        0       0        1       0        0        0       0  26.443866  \n",
       "\n",
       "[5 rows x 476 columns]"
      ]
     },
     "execution_count": 16,
     "metadata": {},
     "output_type": "execute_result"
    }
   ],
   "source": [
    "df4 = df3.drop([\"wgt_lbs\", \"height_ft\", \"height_in\", \"height_total\"], axis = 1)\n",
    "dfclean = df4.loc[df4[\"bmi\"] > 10] \n",
    "dfclean = dfclean.loc[dfclean[\"bmi\"] < 50]\n",
    "dfclean.shape\n",
    "dfclean.head()"
   ]
  },
  {
   "cell_type": "code",
   "execution_count": 17,
   "metadata": {
    "id": "2Wi3Si0suOcp"
   },
   "outputs": [
    {
     "data": {
      "text/plain": [
       "(47288, 475)"
      ]
     },
     "execution_count": 17,
     "metadata": {},
     "output_type": "execute_result"
    }
   ],
   "source": [
    "notarg = dfclean.drop([\"dx_dep1\"], axis=1)\n",
    "notarg.shape"
   ]
  },
  {
   "cell_type": "code",
   "execution_count": 18,
   "metadata": {
    "id": "feBO5D_Bi3KW"
   },
   "outputs": [],
   "source": [
    "from sklearn.preprocessing import StandardScaler\n",
    "from sklearn.decomposition import PCA\n",
    "from sklearn.cluster import KMeans"
   ]
  },
  {
   "cell_type": "code",
   "execution_count": 19,
   "metadata": {
    "id": "xB9bKpCMi3M9"
   },
   "outputs": [],
   "source": [
    "# Initialize PCA model\n",
    "pca = PCA(n_components=2)\n",
    "\n",
    "# Get two principal components for the data.\n",
    "df_pca = pca.fit_transform(notarg)\n",
    "\n",
    "pcaArray = (abs(pca.components_))"
   ]
  },
  {
   "cell_type": "code",
   "execution_count": 20,
   "metadata": {
    "id": "8-dnzsVTfHg-"
   },
   "outputs": [
    {
     "data": {
      "text/plain": [
       "(2, 475)"
      ]
     },
     "execution_count": 20,
     "metadata": {},
     "output_type": "execute_result"
    }
   ],
   "source": [
    "pcaDF = pd.DataFrame(pcaArray)\n",
    "# pcaDF.to_csv(\"pcaDF.csv\")\n",
    "\n",
    "# return the transpose\n",
    "result = pcaDF.transpose()\n",
    "result.shape\n",
    "pcaDF.shape"
   ]
  },
  {
   "cell_type": "code",
   "execution_count": 21,
   "metadata": {
    "id": "73HzD1PSi3PD"
   },
   "outputs": [
    {
     "data": {
      "text/html": [
       "<div>\n",
       "<style scoped>\n",
       "    .dataframe tbody tr th:only-of-type {\n",
       "        vertical-align: middle;\n",
       "    }\n",
       "\n",
       "    .dataframe tbody tr th {\n",
       "        vertical-align: top;\n",
       "    }\n",
       "\n",
       "    .dataframe thead th {\n",
       "        text-align: right;\n",
       "    }\n",
       "</style>\n",
       "<table border=\"1\" class=\"dataframe\">\n",
       "  <thead>\n",
       "    <tr style=\"text-align: right;\">\n",
       "      <th></th>\n",
       "      <th>0</th>\n",
       "      <th>1</th>\n",
       "      <th>Variables</th>\n",
       "    </tr>\n",
       "  </thead>\n",
       "  <tbody>\n",
       "    <tr>\n",
       "      <th>16</th>\n",
       "      <td>0.990341</td>\n",
       "      <td>0.001413</td>\n",
       "      <td>hours_work_paid</td>\n",
       "    </tr>\n",
       "    <tr>\n",
       "      <th>0</th>\n",
       "      <td>0.101185</td>\n",
       "      <td>0.075204</td>\n",
       "      <td>age</td>\n",
       "    </tr>\n",
       "    <tr>\n",
       "      <th>474</th>\n",
       "      <td>0.044306</td>\n",
       "      <td>0.049945</td>\n",
       "      <td>bmi</td>\n",
       "    </tr>\n",
       "    <tr>\n",
       "      <th>58</th>\n",
       "      <td>0.026490</td>\n",
       "      <td>0.002090</td>\n",
       "      <td>residenc</td>\n",
       "    </tr>\n",
       "    <tr>\n",
       "      <th>55</th>\n",
       "      <td>0.019618</td>\n",
       "      <td>0.001331</td>\n",
       "      <td>timeclass</td>\n",
       "    </tr>\n",
       "    <tr>\n",
       "      <th>295</th>\n",
       "      <td>0.017209</td>\n",
       "      <td>0.007900</td>\n",
       "      <td>BRS_1</td>\n",
       "    </tr>\n",
       "    <tr>\n",
       "      <th>297</th>\n",
       "      <td>0.015394</td>\n",
       "      <td>0.006874</td>\n",
       "      <td>BRS_3</td>\n",
       "    </tr>\n",
       "    <tr>\n",
       "      <th>299</th>\n",
       "      <td>0.015217</td>\n",
       "      <td>0.008027</td>\n",
       "      <td>BRS_5</td>\n",
       "    </tr>\n",
       "    <tr>\n",
       "      <th>262</th>\n",
       "      <td>0.014814</td>\n",
       "      <td>0.021784</td>\n",
       "      <td>belong8</td>\n",
       "    </tr>\n",
       "    <tr>\n",
       "      <th>18</th>\n",
       "      <td>0.014793</td>\n",
       "      <td>0.007128</td>\n",
       "      <td>educ_par2</td>\n",
       "    </tr>\n",
       "  </tbody>\n",
       "</table>\n",
       "</div>"
      ],
      "text/plain": [
       "            0         1        Variables\n",
       "16   0.990341  0.001413  hours_work_paid\n",
       "0    0.101185  0.075204              age\n",
       "474  0.044306  0.049945              bmi\n",
       "58   0.026490  0.002090         residenc\n",
       "55   0.019618  0.001331        timeclass\n",
       "295  0.017209  0.007900            BRS_1\n",
       "297  0.015394  0.006874            BRS_3\n",
       "299  0.015217  0.008027            BRS_5\n",
       "262  0.014814  0.021784          belong8\n",
       "18   0.014793  0.007128        educ_par2"
      ]
     },
     "execution_count": 21,
     "metadata": {},
     "output_type": "execute_result"
    }
   ],
   "source": [
    "col = []\n",
    "length = len(notarg.columns)\n",
    "\n",
    "for i in range(0,length):\n",
    "    name = notarg.columns[i]\n",
    "    col.append(name)\n",
    "\n",
    "result['Variables'] = col\n",
    "\n",
    "# pd.set_option('display.max_rows', None)\n",
    "result.sort_values(by=[0], ascending=False).head(10)\n"
   ]
  },
  {
   "cell_type": "code",
   "execution_count": 22,
   "metadata": {
    "id": "6QMaaGhryxNX"
   },
   "outputs": [],
   "source": [
    "dffinal = dfclean[[\"hours_work_paid\", \"age\", \"bmi\", \"residenc\", \"timeclass\", \"BRS_1\", \"BRS_3\", \"BRS_5\", \"belong8\", \"educ_par2\", \"dx_dep1\"]]\n"
   ]
  },
  {
   "cell_type": "code",
   "execution_count": 23,
   "metadata": {
    "id": "CcABzgVLLcx0"
   },
   "outputs": [
    {
     "data": {
      "text/html": [
       "<div>\n",
       "<style scoped>\n",
       "    .dataframe tbody tr th:only-of-type {\n",
       "        vertical-align: middle;\n",
       "    }\n",
       "\n",
       "    .dataframe tbody tr th {\n",
       "        vertical-align: top;\n",
       "    }\n",
       "\n",
       "    .dataframe thead th {\n",
       "        text-align: right;\n",
       "    }\n",
       "</style>\n",
       "<table border=\"1\" class=\"dataframe\">\n",
       "  <thead>\n",
       "    <tr style=\"text-align: right;\">\n",
       "      <th></th>\n",
       "      <th>hours_work_paid</th>\n",
       "      <th>age</th>\n",
       "      <th>bmi</th>\n",
       "      <th>residenc</th>\n",
       "      <th>timeclass</th>\n",
       "      <th>BRS_1</th>\n",
       "      <th>BRS_3</th>\n",
       "      <th>BRS_5</th>\n",
       "      <th>belong8</th>\n",
       "      <th>educ_par2</th>\n",
       "    </tr>\n",
       "  </thead>\n",
       "  <tbody>\n",
       "    <tr>\n",
       "      <th>0</th>\n",
       "      <td>0.0</td>\n",
       "      <td>20.0</td>\n",
       "      <td>25.386111</td>\n",
       "      <td>6</td>\n",
       "      <td>2</td>\n",
       "      <td>0</td>\n",
       "      <td>0</td>\n",
       "      <td>0</td>\n",
       "      <td>0</td>\n",
       "      <td>8</td>\n",
       "    </tr>\n",
       "    <tr>\n",
       "      <th>1</th>\n",
       "      <td>0.0</td>\n",
       "      <td>21.0</td>\n",
       "      <td>21.031478</td>\n",
       "      <td>5</td>\n",
       "      <td>6</td>\n",
       "      <td>0</td>\n",
       "      <td>0</td>\n",
       "      <td>0</td>\n",
       "      <td>0</td>\n",
       "      <td>6</td>\n",
       "    </tr>\n",
       "    <tr>\n",
       "      <th>2</th>\n",
       "      <td>50.0</td>\n",
       "      <td>35.0</td>\n",
       "      <td>35.296306</td>\n",
       "      <td>5</td>\n",
       "      <td>1</td>\n",
       "      <td>0</td>\n",
       "      <td>0</td>\n",
       "      <td>0</td>\n",
       "      <td>0</td>\n",
       "      <td>6</td>\n",
       "    </tr>\n",
       "    <tr>\n",
       "      <th>3</th>\n",
       "      <td>0.0</td>\n",
       "      <td>22.0</td>\n",
       "      <td>22.044766</td>\n",
       "      <td>5</td>\n",
       "      <td>6</td>\n",
       "      <td>0</td>\n",
       "      <td>0</td>\n",
       "      <td>0</td>\n",
       "      <td>0</td>\n",
       "      <td>7</td>\n",
       "    </tr>\n",
       "    <tr>\n",
       "      <th>4</th>\n",
       "      <td>20.0</td>\n",
       "      <td>19.0</td>\n",
       "      <td>26.443866</td>\n",
       "      <td>2</td>\n",
       "      <td>4</td>\n",
       "      <td>0</td>\n",
       "      <td>0</td>\n",
       "      <td>0</td>\n",
       "      <td>0</td>\n",
       "      <td>4</td>\n",
       "    </tr>\n",
       "    <tr>\n",
       "      <th>...</th>\n",
       "      <td>...</td>\n",
       "      <td>...</td>\n",
       "      <td>...</td>\n",
       "      <td>...</td>\n",
       "      <td>...</td>\n",
       "      <td>...</td>\n",
       "      <td>...</td>\n",
       "      <td>...</td>\n",
       "      <td>...</td>\n",
       "      <td>...</td>\n",
       "    </tr>\n",
       "    <tr>\n",
       "      <th>52613</th>\n",
       "      <td>0.0</td>\n",
       "      <td>35.0</td>\n",
       "      <td>18.792604</td>\n",
       "      <td>7</td>\n",
       "      <td>3</td>\n",
       "      <td>0</td>\n",
       "      <td>0</td>\n",
       "      <td>0</td>\n",
       "      <td>4</td>\n",
       "      <td>0</td>\n",
       "    </tr>\n",
       "    <tr>\n",
       "      <th>52614</th>\n",
       "      <td>0.0</td>\n",
       "      <td>20.0</td>\n",
       "      <td>45.188246</td>\n",
       "      <td>1</td>\n",
       "      <td>5</td>\n",
       "      <td>0</td>\n",
       "      <td>0</td>\n",
       "      <td>0</td>\n",
       "      <td>6</td>\n",
       "      <td>4</td>\n",
       "    </tr>\n",
       "    <tr>\n",
       "      <th>52615</th>\n",
       "      <td>0.0</td>\n",
       "      <td>18.0</td>\n",
       "      <td>24.199951</td>\n",
       "      <td>1</td>\n",
       "      <td>4</td>\n",
       "      <td>0</td>\n",
       "      <td>0</td>\n",
       "      <td>0</td>\n",
       "      <td>6</td>\n",
       "      <td>3</td>\n",
       "    </tr>\n",
       "    <tr>\n",
       "      <th>52616</th>\n",
       "      <td>0.0</td>\n",
       "      <td>18.0</td>\n",
       "      <td>33.223062</td>\n",
       "      <td>1</td>\n",
       "      <td>4</td>\n",
       "      <td>0</td>\n",
       "      <td>0</td>\n",
       "      <td>0</td>\n",
       "      <td>5</td>\n",
       "      <td>4</td>\n",
       "    </tr>\n",
       "    <tr>\n",
       "      <th>52617</th>\n",
       "      <td>0.0</td>\n",
       "      <td>20.0</td>\n",
       "      <td>27.460938</td>\n",
       "      <td>2</td>\n",
       "      <td>6</td>\n",
       "      <td>0</td>\n",
       "      <td>0</td>\n",
       "      <td>0</td>\n",
       "      <td>3</td>\n",
       "      <td>5</td>\n",
       "    </tr>\n",
       "  </tbody>\n",
       "</table>\n",
       "<p>47288 rows × 10 columns</p>\n",
       "</div>"
      ],
      "text/plain": [
       "       hours_work_paid   age        bmi  residenc  timeclass  BRS_1  BRS_3  \\\n",
       "0                  0.0  20.0  25.386111         6          2      0      0   \n",
       "1                  0.0  21.0  21.031478         5          6      0      0   \n",
       "2                 50.0  35.0  35.296306         5          1      0      0   \n",
       "3                  0.0  22.0  22.044766         5          6      0      0   \n",
       "4                 20.0  19.0  26.443866         2          4      0      0   \n",
       "...                ...   ...        ...       ...        ...    ...    ...   \n",
       "52613              0.0  35.0  18.792604         7          3      0      0   \n",
       "52614              0.0  20.0  45.188246         1          5      0      0   \n",
       "52615              0.0  18.0  24.199951         1          4      0      0   \n",
       "52616              0.0  18.0  33.223062         1          4      0      0   \n",
       "52617              0.0  20.0  27.460938         2          6      0      0   \n",
       "\n",
       "       BRS_5  belong8  educ_par2  \n",
       "0          0        0          8  \n",
       "1          0        0          6  \n",
       "2          0        0          6  \n",
       "3          0        0          7  \n",
       "4          0        0          4  \n",
       "...      ...      ...        ...  \n",
       "52613      0        4          0  \n",
       "52614      0        6          4  \n",
       "52615      0        6          3  \n",
       "52616      0        5          4  \n",
       "52617      0        3          5  \n",
       "\n",
       "[47288 rows x 10 columns]"
      ]
     },
     "execution_count": 23,
     "metadata": {},
     "output_type": "execute_result"
    }
   ],
   "source": [
    "data = dffinal.sample(frac=0.95, random_state=786)\n",
    "data_unseen = dffinal.drop(data.index)\n",
    "data.reset_index(inplace=True, drop=True)\n",
    "data_unseen.reset_index(inplace=True, drop=True)\n",
    "data_unseen = dffinal.drop([\"dx_dep1\"], axis=1)\n",
    "data_unseen"
   ]
  },
  {
   "cell_type": "code",
   "execution_count": 45,
   "metadata": {},
   "outputs": [],
   "source": [
    "data.to_csv('data.csv',index=False)"
   ]
  },
  {
   "cell_type": "code",
   "execution_count": 24,
   "metadata": {
    "id": "XgF2zJoO8E-t"
   },
   "outputs": [],
   "source": [
    "# dffinal.to_csv(\"dffinal.csv\")"
   ]
  },
  {
   "cell_type": "code",
   "execution_count": 25,
   "metadata": {
    "id": "t03HxGACi3RZ"
   },
   "outputs": [
    {
     "data": {
      "text/plain": [
       "array([0.40184374, 0.13570044])"
      ]
     },
     "execution_count": 25,
     "metadata": {},
     "output_type": "execute_result"
    }
   ],
   "source": [
    "pca.explained_variance_ratio_"
   ]
  },
  {
   "cell_type": "code",
   "execution_count": 26,
   "metadata": {
    "id": "-92HQF21i3Td"
   },
   "outputs": [],
   "source": [
    "# plt.scatter(data = dfclean, x = \"dx_dep1\", y =\"flourish\")"
   ]
  },
  {
   "cell_type": "code",
   "execution_count": 27,
   "metadata": {
    "id": "Zr4koKIBi3Vs"
   },
   "outputs": [
    {
     "data": {
      "text/plain": [
       "dx_dep1\n",
       "0    44.965719\n",
       "1    40.451359\n",
       "Name: flourish, dtype: float64"
      ]
     },
     "execution_count": 27,
     "metadata": {},
     "output_type": "execute_result"
    }
   ],
   "source": [
    "dfclean.groupby('dx_dep1')['flourish'].mean()\n"
   ]
  },
  {
   "cell_type": "code",
   "execution_count": 28,
   "metadata": {
    "id": "aEABXN0xi3Xx"
   },
   "outputs": [
    {
     "data": {
      "text/plain": [
       "dx_dep1\n",
       "0    24.778282\n",
       "1    26.130649\n",
       "Name: bmi, dtype: float64"
      ]
     },
     "execution_count": 28,
     "metadata": {},
     "output_type": "execute_result"
    }
   ],
   "source": [
    "dfclean.groupby('dx_dep1')['bmi'].mean()"
   ]
  },
  {
   "cell_type": "code",
   "execution_count": 29,
   "metadata": {
    "id": "HUV0m3H8i3Zl"
   },
   "outputs": [],
   "source": [
    "# gbdf = df3.groupby('dx_dep1')\n",
    "# gbdf2 = pd.DataFrame(gbdf).mean()\n",
    "# gbdf2"
   ]
  },
  {
   "cell_type": "code",
   "execution_count": 30,
   "metadata": {
    "id": "Em9iJBoui3bT"
   },
   "outputs": [],
   "source": [
    "# dep1 = df3[\"dx_dep1\"]== \"1\"\n",
    "# dep0 = df3[\"dx_dep1\"] == \"0\"\n",
    "# dep1\n",
    "\n",
    "dep1wt = dfclean.loc[dfclean[\"dx_dep1\"] == 1, :].bmi\n",
    "dep0wt = dfclean.loc[dfclean[\"dx_dep1\"] == 0, :].bmi\n",
    "\n",
    "dep1fl = dfclean.loc[dfclean[\"dx_dep1\"] == 1, :].flourish\n",
    "dep0fl = dfclean.loc[dfclean[\"dx_dep1\"] == 0, :].flourish\n",
    "\n",
    "dep1hrs = dfclean.loc[dfclean[\"dx_dep1\"] == 1, :].hours_work_paid\n",
    "dep0hrs = dfclean.loc[dfclean[\"dx_dep1\"] == 0, :].hours_work_paid"
   ]
  },
  {
   "cell_type": "code",
   "execution_count": 31,
   "metadata": {
    "id": "M4t7M8bdi3dO"
   },
   "outputs": [
    {
     "name": "stdout",
     "output_type": "stream",
     "text": [
      "Statistics=167980491.000, BMI p=0.000\n"
     ]
    }
   ],
   "source": [
    "# compare samples\n",
    "stat, p = mannwhitneyu(dep1wt, dep0wt)\n",
    "print('Statistics=%.3f, BMI p=%.3f' % (stat, p))"
   ]
  },
  {
   "cell_type": "code",
   "execution_count": 32,
   "metadata": {
    "id": "WeMHsHKM0Z-J"
   },
   "outputs": [
    {
     "name": "stdout",
     "output_type": "stream",
     "text": [
      "Statistics=129312261.000, Flourish p=0.000\n"
     ]
    }
   ],
   "source": [
    "stat, p = mannwhitneyu(dep1fl, dep0fl)\n",
    "print('Statistics=%.3f, Flourish p=%.3f' % (stat, p))"
   ]
  },
  {
   "cell_type": "code",
   "execution_count": 33,
   "metadata": {
    "id": "EKbEt0FF7NLC"
   },
   "outputs": [
    {
     "name": "stdout",
     "output_type": "stream",
     "text": [
      "Statistics=181259688.000, Hours Worked p=0.000\n"
     ]
    }
   ],
   "source": [
    "stat, p = mannwhitneyu(dep1hrs, dep0hrs)\n",
    "print('Statistics=%.3f, Hours Worked p=%.3f' % (stat, p))"
   ]
  },
  {
   "cell_type": "markdown",
   "metadata": {
    "id": "FISUaCd7iIyV"
   },
   "source": []
  },
  {
   "cell_type": "code",
   "execution_count": 46,
   "metadata": {
    "id": "ZFr01kpMTiPS"
   },
   "outputs": [
    {
     "data": {
      "text/html": [
       "<style type=\"text/css\">\n",
       "#T_4107e_row9_col1, #T_4107e_row29_col1, #T_4107e_row31_col1, #T_4107e_row36_col1, #T_4107e_row39_col1, #T_4107e_row42_col1, #T_4107e_row44_col1, #T_4107e_row52_col1, #T_4107e_row58_col1 {\n",
       "  background-color: lightgreen;\n",
       "}\n",
       "</style>\n",
       "<table id=\"T_4107e\">\n",
       "  <thead>\n",
       "    <tr>\n",
       "      <th class=\"blank level0\" >&nbsp;</th>\n",
       "      <th id=\"T_4107e_level0_col0\" class=\"col_heading level0 col0\" >Description</th>\n",
       "      <th id=\"T_4107e_level0_col1\" class=\"col_heading level0 col1\" >Value</th>\n",
       "    </tr>\n",
       "  </thead>\n",
       "  <tbody>\n",
       "    <tr>\n",
       "      <th id=\"T_4107e_level0_row0\" class=\"row_heading level0 row0\" >0</th>\n",
       "      <td id=\"T_4107e_row0_col0\" class=\"data row0 col0\" >session_id</td>\n",
       "      <td id=\"T_4107e_row0_col1\" class=\"data row0 col1\" >123</td>\n",
       "    </tr>\n",
       "    <tr>\n",
       "      <th id=\"T_4107e_level0_row1\" class=\"row_heading level0 row1\" >1</th>\n",
       "      <td id=\"T_4107e_row1_col0\" class=\"data row1 col0\" >Target</td>\n",
       "      <td id=\"T_4107e_row1_col1\" class=\"data row1 col1\" >dx_dep1</td>\n",
       "    </tr>\n",
       "    <tr>\n",
       "      <th id=\"T_4107e_level0_row2\" class=\"row_heading level0 row2\" >2</th>\n",
       "      <td id=\"T_4107e_row2_col0\" class=\"data row2 col0\" >Target Type</td>\n",
       "      <td id=\"T_4107e_row2_col1\" class=\"data row2 col1\" >Binary</td>\n",
       "    </tr>\n",
       "    <tr>\n",
       "      <th id=\"T_4107e_level0_row3\" class=\"row_heading level0 row3\" >3</th>\n",
       "      <td id=\"T_4107e_row3_col0\" class=\"data row3 col0\" >Label Encoded</td>\n",
       "      <td id=\"T_4107e_row3_col1\" class=\"data row3 col1\" >None</td>\n",
       "    </tr>\n",
       "    <tr>\n",
       "      <th id=\"T_4107e_level0_row4\" class=\"row_heading level0 row4\" >4</th>\n",
       "      <td id=\"T_4107e_row4_col0\" class=\"data row4 col0\" >Original Data</td>\n",
       "      <td id=\"T_4107e_row4_col1\" class=\"data row4 col1\" >(44924, 11)</td>\n",
       "    </tr>\n",
       "    <tr>\n",
       "      <th id=\"T_4107e_level0_row5\" class=\"row_heading level0 row5\" >5</th>\n",
       "      <td id=\"T_4107e_row5_col0\" class=\"data row5 col0\" >Missing Values</td>\n",
       "      <td id=\"T_4107e_row5_col1\" class=\"data row5 col1\" >False</td>\n",
       "    </tr>\n",
       "    <tr>\n",
       "      <th id=\"T_4107e_level0_row6\" class=\"row_heading level0 row6\" >6</th>\n",
       "      <td id=\"T_4107e_row6_col0\" class=\"data row6 col0\" >Numeric Features</td>\n",
       "      <td id=\"T_4107e_row6_col1\" class=\"data row6 col1\" >3</td>\n",
       "    </tr>\n",
       "    <tr>\n",
       "      <th id=\"T_4107e_level0_row7\" class=\"row_heading level0 row7\" >7</th>\n",
       "      <td id=\"T_4107e_row7_col0\" class=\"data row7 col0\" >Categorical Features</td>\n",
       "      <td id=\"T_4107e_row7_col1\" class=\"data row7 col1\" >7</td>\n",
       "    </tr>\n",
       "    <tr>\n",
       "      <th id=\"T_4107e_level0_row8\" class=\"row_heading level0 row8\" >8</th>\n",
       "      <td id=\"T_4107e_row8_col0\" class=\"data row8 col0\" >Ordinal Features</td>\n",
       "      <td id=\"T_4107e_row8_col1\" class=\"data row8 col1\" >False</td>\n",
       "    </tr>\n",
       "    <tr>\n",
       "      <th id=\"T_4107e_level0_row9\" class=\"row_heading level0 row9\" >9</th>\n",
       "      <td id=\"T_4107e_row9_col0\" class=\"data row9 col0\" >High Cardinality Features</td>\n",
       "      <td id=\"T_4107e_row9_col1\" class=\"data row9 col1\" >True</td>\n",
       "    </tr>\n",
       "    <tr>\n",
       "      <th id=\"T_4107e_level0_row10\" class=\"row_heading level0 row10\" >10</th>\n",
       "      <td id=\"T_4107e_row10_col0\" class=\"data row10 col0\" >High Cardinality Method</td>\n",
       "      <td id=\"T_4107e_row10_col1\" class=\"data row10 col1\" >frequency</td>\n",
       "    </tr>\n",
       "    <tr>\n",
       "      <th id=\"T_4107e_level0_row11\" class=\"row_heading level0 row11\" >11</th>\n",
       "      <td id=\"T_4107e_row11_col0\" class=\"data row11 col0\" >Transformed Train Set</td>\n",
       "      <td id=\"T_4107e_row11_col1\" class=\"data row11 col1\" >(31446, 50)</td>\n",
       "    </tr>\n",
       "    <tr>\n",
       "      <th id=\"T_4107e_level0_row12\" class=\"row_heading level0 row12\" >12</th>\n",
       "      <td id=\"T_4107e_row12_col0\" class=\"data row12 col0\" >Transformed Test Set</td>\n",
       "      <td id=\"T_4107e_row12_col1\" class=\"data row12 col1\" >(13478, 50)</td>\n",
       "    </tr>\n",
       "    <tr>\n",
       "      <th id=\"T_4107e_level0_row13\" class=\"row_heading level0 row13\" >13</th>\n",
       "      <td id=\"T_4107e_row13_col0\" class=\"data row13 col0\" >Shuffle Train-Test</td>\n",
       "      <td id=\"T_4107e_row13_col1\" class=\"data row13 col1\" >True</td>\n",
       "    </tr>\n",
       "    <tr>\n",
       "      <th id=\"T_4107e_level0_row14\" class=\"row_heading level0 row14\" >14</th>\n",
       "      <td id=\"T_4107e_row14_col0\" class=\"data row14 col0\" >Stratify Train-Test</td>\n",
       "      <td id=\"T_4107e_row14_col1\" class=\"data row14 col1\" >False</td>\n",
       "    </tr>\n",
       "    <tr>\n",
       "      <th id=\"T_4107e_level0_row15\" class=\"row_heading level0 row15\" >15</th>\n",
       "      <td id=\"T_4107e_row15_col0\" class=\"data row15 col0\" >Fold Generator</td>\n",
       "      <td id=\"T_4107e_row15_col1\" class=\"data row15 col1\" >StratifiedKFold</td>\n",
       "    </tr>\n",
       "    <tr>\n",
       "      <th id=\"T_4107e_level0_row16\" class=\"row_heading level0 row16\" >16</th>\n",
       "      <td id=\"T_4107e_row16_col0\" class=\"data row16 col0\" >Fold Number</td>\n",
       "      <td id=\"T_4107e_row16_col1\" class=\"data row16 col1\" >10</td>\n",
       "    </tr>\n",
       "    <tr>\n",
       "      <th id=\"T_4107e_level0_row17\" class=\"row_heading level0 row17\" >17</th>\n",
       "      <td id=\"T_4107e_row17_col0\" class=\"data row17 col0\" >CPU Jobs</td>\n",
       "      <td id=\"T_4107e_row17_col1\" class=\"data row17 col1\" >-1</td>\n",
       "    </tr>\n",
       "    <tr>\n",
       "      <th id=\"T_4107e_level0_row18\" class=\"row_heading level0 row18\" >18</th>\n",
       "      <td id=\"T_4107e_row18_col0\" class=\"data row18 col0\" >Use GPU</td>\n",
       "      <td id=\"T_4107e_row18_col1\" class=\"data row18 col1\" >False</td>\n",
       "    </tr>\n",
       "    <tr>\n",
       "      <th id=\"T_4107e_level0_row19\" class=\"row_heading level0 row19\" >19</th>\n",
       "      <td id=\"T_4107e_row19_col0\" class=\"data row19 col0\" >Log Experiment</td>\n",
       "      <td id=\"T_4107e_row19_col1\" class=\"data row19 col1\" >False</td>\n",
       "    </tr>\n",
       "    <tr>\n",
       "      <th id=\"T_4107e_level0_row20\" class=\"row_heading level0 row20\" >20</th>\n",
       "      <td id=\"T_4107e_row20_col0\" class=\"data row20 col0\" >Experiment Name</td>\n",
       "      <td id=\"T_4107e_row20_col1\" class=\"data row20 col1\" >clf-default-name</td>\n",
       "    </tr>\n",
       "    <tr>\n",
       "      <th id=\"T_4107e_level0_row21\" class=\"row_heading level0 row21\" >21</th>\n",
       "      <td id=\"T_4107e_row21_col0\" class=\"data row21 col0\" >USI</td>\n",
       "      <td id=\"T_4107e_row21_col1\" class=\"data row21 col1\" >955d</td>\n",
       "    </tr>\n",
       "    <tr>\n",
       "      <th id=\"T_4107e_level0_row22\" class=\"row_heading level0 row22\" >22</th>\n",
       "      <td id=\"T_4107e_row22_col0\" class=\"data row22 col0\" >Imputation Type</td>\n",
       "      <td id=\"T_4107e_row22_col1\" class=\"data row22 col1\" >simple</td>\n",
       "    </tr>\n",
       "    <tr>\n",
       "      <th id=\"T_4107e_level0_row23\" class=\"row_heading level0 row23\" >23</th>\n",
       "      <td id=\"T_4107e_row23_col0\" class=\"data row23 col0\" >Iterative Imputation Iteration</td>\n",
       "      <td id=\"T_4107e_row23_col1\" class=\"data row23 col1\" >None</td>\n",
       "    </tr>\n",
       "    <tr>\n",
       "      <th id=\"T_4107e_level0_row24\" class=\"row_heading level0 row24\" >24</th>\n",
       "      <td id=\"T_4107e_row24_col0\" class=\"data row24 col0\" >Numeric Imputer</td>\n",
       "      <td id=\"T_4107e_row24_col1\" class=\"data row24 col1\" >mean</td>\n",
       "    </tr>\n",
       "    <tr>\n",
       "      <th id=\"T_4107e_level0_row25\" class=\"row_heading level0 row25\" >25</th>\n",
       "      <td id=\"T_4107e_row25_col0\" class=\"data row25 col0\" >Iterative Imputation Numeric Model</td>\n",
       "      <td id=\"T_4107e_row25_col1\" class=\"data row25 col1\" >None</td>\n",
       "    </tr>\n",
       "    <tr>\n",
       "      <th id=\"T_4107e_level0_row26\" class=\"row_heading level0 row26\" >26</th>\n",
       "      <td id=\"T_4107e_row26_col0\" class=\"data row26 col0\" >Categorical Imputer</td>\n",
       "      <td id=\"T_4107e_row26_col1\" class=\"data row26 col1\" >constant</td>\n",
       "    </tr>\n",
       "    <tr>\n",
       "      <th id=\"T_4107e_level0_row27\" class=\"row_heading level0 row27\" >27</th>\n",
       "      <td id=\"T_4107e_row27_col0\" class=\"data row27 col0\" >Iterative Imputation Categorical Model</td>\n",
       "      <td id=\"T_4107e_row27_col1\" class=\"data row27 col1\" >None</td>\n",
       "    </tr>\n",
       "    <tr>\n",
       "      <th id=\"T_4107e_level0_row28\" class=\"row_heading level0 row28\" >28</th>\n",
       "      <td id=\"T_4107e_row28_col0\" class=\"data row28 col0\" >Unknown Categoricals Handling</td>\n",
       "      <td id=\"T_4107e_row28_col1\" class=\"data row28 col1\" >least_frequent</td>\n",
       "    </tr>\n",
       "    <tr>\n",
       "      <th id=\"T_4107e_level0_row29\" class=\"row_heading level0 row29\" >29</th>\n",
       "      <td id=\"T_4107e_row29_col0\" class=\"data row29 col0\" >Normalize</td>\n",
       "      <td id=\"T_4107e_row29_col1\" class=\"data row29 col1\" >True</td>\n",
       "    </tr>\n",
       "    <tr>\n",
       "      <th id=\"T_4107e_level0_row30\" class=\"row_heading level0 row30\" >30</th>\n",
       "      <td id=\"T_4107e_row30_col0\" class=\"data row30 col0\" >Normalize Method</td>\n",
       "      <td id=\"T_4107e_row30_col1\" class=\"data row30 col1\" >zscore</td>\n",
       "    </tr>\n",
       "    <tr>\n",
       "      <th id=\"T_4107e_level0_row31\" class=\"row_heading level0 row31\" >31</th>\n",
       "      <td id=\"T_4107e_row31_col0\" class=\"data row31 col0\" >Transformation</td>\n",
       "      <td id=\"T_4107e_row31_col1\" class=\"data row31 col1\" >True</td>\n",
       "    </tr>\n",
       "    <tr>\n",
       "      <th id=\"T_4107e_level0_row32\" class=\"row_heading level0 row32\" >32</th>\n",
       "      <td id=\"T_4107e_row32_col0\" class=\"data row32 col0\" >Transformation Method</td>\n",
       "      <td id=\"T_4107e_row32_col1\" class=\"data row32 col1\" >yeo-johnson</td>\n",
       "    </tr>\n",
       "    <tr>\n",
       "      <th id=\"T_4107e_level0_row33\" class=\"row_heading level0 row33\" >33</th>\n",
       "      <td id=\"T_4107e_row33_col0\" class=\"data row33 col0\" >PCA</td>\n",
       "      <td id=\"T_4107e_row33_col1\" class=\"data row33 col1\" >False</td>\n",
       "    </tr>\n",
       "    <tr>\n",
       "      <th id=\"T_4107e_level0_row34\" class=\"row_heading level0 row34\" >34</th>\n",
       "      <td id=\"T_4107e_row34_col0\" class=\"data row34 col0\" >PCA Method</td>\n",
       "      <td id=\"T_4107e_row34_col1\" class=\"data row34 col1\" >None</td>\n",
       "    </tr>\n",
       "    <tr>\n",
       "      <th id=\"T_4107e_level0_row35\" class=\"row_heading level0 row35\" >35</th>\n",
       "      <td id=\"T_4107e_row35_col0\" class=\"data row35 col0\" >PCA Components</td>\n",
       "      <td id=\"T_4107e_row35_col1\" class=\"data row35 col1\" >None</td>\n",
       "    </tr>\n",
       "    <tr>\n",
       "      <th id=\"T_4107e_level0_row36\" class=\"row_heading level0 row36\" >36</th>\n",
       "      <td id=\"T_4107e_row36_col0\" class=\"data row36 col0\" >Ignore Low Variance</td>\n",
       "      <td id=\"T_4107e_row36_col1\" class=\"data row36 col1\" >True</td>\n",
       "    </tr>\n",
       "    <tr>\n",
       "      <th id=\"T_4107e_level0_row37\" class=\"row_heading level0 row37\" >37</th>\n",
       "      <td id=\"T_4107e_row37_col0\" class=\"data row37 col0\" >Combine Rare Levels</td>\n",
       "      <td id=\"T_4107e_row37_col1\" class=\"data row37 col1\" >False</td>\n",
       "    </tr>\n",
       "    <tr>\n",
       "      <th id=\"T_4107e_level0_row38\" class=\"row_heading level0 row38\" >38</th>\n",
       "      <td id=\"T_4107e_row38_col0\" class=\"data row38 col0\" >Rare Level Threshold</td>\n",
       "      <td id=\"T_4107e_row38_col1\" class=\"data row38 col1\" >None</td>\n",
       "    </tr>\n",
       "    <tr>\n",
       "      <th id=\"T_4107e_level0_row39\" class=\"row_heading level0 row39\" >39</th>\n",
       "      <td id=\"T_4107e_row39_col0\" class=\"data row39 col0\" >Numeric Binning</td>\n",
       "      <td id=\"T_4107e_row39_col1\" class=\"data row39 col1\" >True</td>\n",
       "    </tr>\n",
       "    <tr>\n",
       "      <th id=\"T_4107e_level0_row40\" class=\"row_heading level0 row40\" >40</th>\n",
       "      <td id=\"T_4107e_row40_col0\" class=\"data row40 col0\" >Remove Outliers</td>\n",
       "      <td id=\"T_4107e_row40_col1\" class=\"data row40 col1\" >False</td>\n",
       "    </tr>\n",
       "    <tr>\n",
       "      <th id=\"T_4107e_level0_row41\" class=\"row_heading level0 row41\" >41</th>\n",
       "      <td id=\"T_4107e_row41_col0\" class=\"data row41 col0\" >Outliers Threshold</td>\n",
       "      <td id=\"T_4107e_row41_col1\" class=\"data row41 col1\" >None</td>\n",
       "    </tr>\n",
       "    <tr>\n",
       "      <th id=\"T_4107e_level0_row42\" class=\"row_heading level0 row42\" >42</th>\n",
       "      <td id=\"T_4107e_row42_col0\" class=\"data row42 col0\" >Remove Multicollinearity</td>\n",
       "      <td id=\"T_4107e_row42_col1\" class=\"data row42 col1\" >True</td>\n",
       "    </tr>\n",
       "    <tr>\n",
       "      <th id=\"T_4107e_level0_row43\" class=\"row_heading level0 row43\" >43</th>\n",
       "      <td id=\"T_4107e_row43_col0\" class=\"data row43 col0\" >Multicollinearity Threshold</td>\n",
       "      <td id=\"T_4107e_row43_col1\" class=\"data row43 col1\" >0.900000</td>\n",
       "    </tr>\n",
       "    <tr>\n",
       "      <th id=\"T_4107e_level0_row44\" class=\"row_heading level0 row44\" >44</th>\n",
       "      <td id=\"T_4107e_row44_col0\" class=\"data row44 col0\" >Remove Perfect Collinearity</td>\n",
       "      <td id=\"T_4107e_row44_col1\" class=\"data row44 col1\" >True</td>\n",
       "    </tr>\n",
       "    <tr>\n",
       "      <th id=\"T_4107e_level0_row45\" class=\"row_heading level0 row45\" >45</th>\n",
       "      <td id=\"T_4107e_row45_col0\" class=\"data row45 col0\" >Clustering</td>\n",
       "      <td id=\"T_4107e_row45_col1\" class=\"data row45 col1\" >False</td>\n",
       "    </tr>\n",
       "    <tr>\n",
       "      <th id=\"T_4107e_level0_row46\" class=\"row_heading level0 row46\" >46</th>\n",
       "      <td id=\"T_4107e_row46_col0\" class=\"data row46 col0\" >Clustering Iteration</td>\n",
       "      <td id=\"T_4107e_row46_col1\" class=\"data row46 col1\" >None</td>\n",
       "    </tr>\n",
       "    <tr>\n",
       "      <th id=\"T_4107e_level0_row47\" class=\"row_heading level0 row47\" >47</th>\n",
       "      <td id=\"T_4107e_row47_col0\" class=\"data row47 col0\" >Polynomial Features</td>\n",
       "      <td id=\"T_4107e_row47_col1\" class=\"data row47 col1\" >False</td>\n",
       "    </tr>\n",
       "    <tr>\n",
       "      <th id=\"T_4107e_level0_row48\" class=\"row_heading level0 row48\" >48</th>\n",
       "      <td id=\"T_4107e_row48_col0\" class=\"data row48 col0\" >Polynomial Degree</td>\n",
       "      <td id=\"T_4107e_row48_col1\" class=\"data row48 col1\" >None</td>\n",
       "    </tr>\n",
       "    <tr>\n",
       "      <th id=\"T_4107e_level0_row49\" class=\"row_heading level0 row49\" >49</th>\n",
       "      <td id=\"T_4107e_row49_col0\" class=\"data row49 col0\" >Trignometry Features</td>\n",
       "      <td id=\"T_4107e_row49_col1\" class=\"data row49 col1\" >False</td>\n",
       "    </tr>\n",
       "    <tr>\n",
       "      <th id=\"T_4107e_level0_row50\" class=\"row_heading level0 row50\" >50</th>\n",
       "      <td id=\"T_4107e_row50_col0\" class=\"data row50 col0\" >Polynomial Threshold</td>\n",
       "      <td id=\"T_4107e_row50_col1\" class=\"data row50 col1\" >None</td>\n",
       "    </tr>\n",
       "    <tr>\n",
       "      <th id=\"T_4107e_level0_row51\" class=\"row_heading level0 row51\" >51</th>\n",
       "      <td id=\"T_4107e_row51_col0\" class=\"data row51 col0\" >Group Features</td>\n",
       "      <td id=\"T_4107e_row51_col1\" class=\"data row51 col1\" >False</td>\n",
       "    </tr>\n",
       "    <tr>\n",
       "      <th id=\"T_4107e_level0_row52\" class=\"row_heading level0 row52\" >52</th>\n",
       "      <td id=\"T_4107e_row52_col0\" class=\"data row52 col0\" >Feature Selection</td>\n",
       "      <td id=\"T_4107e_row52_col1\" class=\"data row52 col1\" >True</td>\n",
       "    </tr>\n",
       "    <tr>\n",
       "      <th id=\"T_4107e_level0_row53\" class=\"row_heading level0 row53\" >53</th>\n",
       "      <td id=\"T_4107e_row53_col0\" class=\"data row53 col0\" >Feature Selection Method</td>\n",
       "      <td id=\"T_4107e_row53_col1\" class=\"data row53 col1\" >classic</td>\n",
       "    </tr>\n",
       "    <tr>\n",
       "      <th id=\"T_4107e_level0_row54\" class=\"row_heading level0 row54\" >54</th>\n",
       "      <td id=\"T_4107e_row54_col0\" class=\"data row54 col0\" >Features Selection Threshold</td>\n",
       "      <td id=\"T_4107e_row54_col1\" class=\"data row54 col1\" >0.800000</td>\n",
       "    </tr>\n",
       "    <tr>\n",
       "      <th id=\"T_4107e_level0_row55\" class=\"row_heading level0 row55\" >55</th>\n",
       "      <td id=\"T_4107e_row55_col0\" class=\"data row55 col0\" >Feature Interaction</td>\n",
       "      <td id=\"T_4107e_row55_col1\" class=\"data row55 col1\" >False</td>\n",
       "    </tr>\n",
       "    <tr>\n",
       "      <th id=\"T_4107e_level0_row56\" class=\"row_heading level0 row56\" >56</th>\n",
       "      <td id=\"T_4107e_row56_col0\" class=\"data row56 col0\" >Feature Ratio</td>\n",
       "      <td id=\"T_4107e_row56_col1\" class=\"data row56 col1\" >False</td>\n",
       "    </tr>\n",
       "    <tr>\n",
       "      <th id=\"T_4107e_level0_row57\" class=\"row_heading level0 row57\" >57</th>\n",
       "      <td id=\"T_4107e_row57_col0\" class=\"data row57 col0\" >Interaction Threshold</td>\n",
       "      <td id=\"T_4107e_row57_col1\" class=\"data row57 col1\" >None</td>\n",
       "    </tr>\n",
       "    <tr>\n",
       "      <th id=\"T_4107e_level0_row58\" class=\"row_heading level0 row58\" >58</th>\n",
       "      <td id=\"T_4107e_row58_col0\" class=\"data row58 col0\" >Fix Imbalance</td>\n",
       "      <td id=\"T_4107e_row58_col1\" class=\"data row58 col1\" >True</td>\n",
       "    </tr>\n",
       "    <tr>\n",
       "      <th id=\"T_4107e_level0_row59\" class=\"row_heading level0 row59\" >59</th>\n",
       "      <td id=\"T_4107e_row59_col0\" class=\"data row59 col0\" >Fix Imbalance Method</td>\n",
       "      <td id=\"T_4107e_row59_col1\" class=\"data row59 col1\" >SMOTE</td>\n",
       "    </tr>\n",
       "  </tbody>\n",
       "</table>\n"
      ],
      "text/plain": [
       "<pandas.io.formats.style.Styler at 0x16bf70190>"
      ]
     },
     "metadata": {},
     "output_type": "display_data"
    }
   ],
   "source": [
    "from pycaret.classification import *\n",
    "regr = setup(data = data, target = 'dx_dep1', session_id=123,\n",
    "                  normalize = True, \n",
    "                  silent = True,\n",
    "                  fix_imbalance = True,\n",
    "                  transformation = True, \n",
    "                  ignore_low_variance = True,\n",
    "                  feature_selection = True,\n",
    "                  feature_selection_threshold = 0.8,\n",
    "                  bin_numeric_features = [\"hours_work_paid\", \"age\", \"bmi\"],\n",
    "                  high_cardinality_features = [\"residenc\", \"timeclass\", \"BRS_1\", \"BRS_3\", \"BRS_5\", \"belong8\", \"educ_par2\"],\n",
    "                  remove_multicollinearity = True, multicollinearity_threshold = 0.9) "
   ]
  },
  {
   "cell_type": "code",
   "execution_count": null,
   "metadata": {
    "id": "Zetc10L4TiTm"
   },
   "outputs": [],
   "source": [
    "best = compare_models()"
   ]
  },
  {
   "cell_type": "code",
   "execution_count": 47,
   "metadata": {
    "id": "qllXQkPBJtdT"
   },
   "outputs": [
    {
     "data": {
      "text/html": [
       "<style type=\"text/css\">\n",
       "#T_2637d_row5_col0, #T_2637d_row5_col1, #T_2637d_row5_col2, #T_2637d_row5_col3, #T_2637d_row5_col4, #T_2637d_row5_col5, #T_2637d_row5_col6 {\n",
       "  background: yellow;\n",
       "}\n",
       "</style>\n",
       "<table id=\"T_2637d\">\n",
       "  <thead>\n",
       "    <tr>\n",
       "      <th class=\"blank level0\" >&nbsp;</th>\n",
       "      <th id=\"T_2637d_level0_col0\" class=\"col_heading level0 col0\" >Accuracy</th>\n",
       "      <th id=\"T_2637d_level0_col1\" class=\"col_heading level0 col1\" >AUC</th>\n",
       "      <th id=\"T_2637d_level0_col2\" class=\"col_heading level0 col2\" >Recall</th>\n",
       "      <th id=\"T_2637d_level0_col3\" class=\"col_heading level0 col3\" >Prec.</th>\n",
       "      <th id=\"T_2637d_level0_col4\" class=\"col_heading level0 col4\" >F1</th>\n",
       "      <th id=\"T_2637d_level0_col5\" class=\"col_heading level0 col5\" >Kappa</th>\n",
       "      <th id=\"T_2637d_level0_col6\" class=\"col_heading level0 col6\" >MCC</th>\n",
       "    </tr>\n",
       "    <tr>\n",
       "      <th class=\"index_name level0\" >Fold</th>\n",
       "      <th class=\"blank col0\" >&nbsp;</th>\n",
       "      <th class=\"blank col1\" >&nbsp;</th>\n",
       "      <th class=\"blank col2\" >&nbsp;</th>\n",
       "      <th class=\"blank col3\" >&nbsp;</th>\n",
       "      <th class=\"blank col4\" >&nbsp;</th>\n",
       "      <th class=\"blank col5\" >&nbsp;</th>\n",
       "      <th class=\"blank col6\" >&nbsp;</th>\n",
       "    </tr>\n",
       "  </thead>\n",
       "  <tbody>\n",
       "    <tr>\n",
       "      <th id=\"T_2637d_level0_row0\" class=\"row_heading level0 row0\" >0</th>\n",
       "      <td id=\"T_2637d_row0_col0\" class=\"data row0 col0\" >0.5897</td>\n",
       "      <td id=\"T_2637d_row0_col1\" class=\"data row0 col1\" >0.6000</td>\n",
       "      <td id=\"T_2637d_row0_col2\" class=\"data row0 col2\" >0.5480</td>\n",
       "      <td id=\"T_2637d_row0_col3\" class=\"data row0 col3\" >0.2776</td>\n",
       "      <td id=\"T_2637d_row0_col4\" class=\"data row0 col4\" >0.3685</td>\n",
       "      <td id=\"T_2637d_row0_col5\" class=\"data row0 col5\" >0.1105</td>\n",
       "      <td id=\"T_2637d_row0_col6\" class=\"data row0 col6\" >0.1246</td>\n",
       "    </tr>\n",
       "    <tr>\n",
       "      <th id=\"T_2637d_level0_row1\" class=\"row_heading level0 row1\" >1</th>\n",
       "      <td id=\"T_2637d_row1_col0\" class=\"data row1 col0\" >0.5920</td>\n",
       "      <td id=\"T_2637d_row1_col1\" class=\"data row1 col1\" >0.5891</td>\n",
       "      <td id=\"T_2637d_row1_col2\" class=\"data row1 col2\" >0.5310</td>\n",
       "      <td id=\"T_2637d_row1_col3\" class=\"data row1 col3\" >0.2750</td>\n",
       "      <td id=\"T_2637d_row1_col4\" class=\"data row1 col4\" >0.3623</td>\n",
       "      <td id=\"T_2637d_row1_col5\" class=\"data row1 col5\" >0.1048</td>\n",
       "      <td id=\"T_2637d_row1_col6\" class=\"data row1 col6\" >0.1171</td>\n",
       "    </tr>\n",
       "    <tr>\n",
       "      <th id=\"T_2637d_level0_row2\" class=\"row_heading level0 row2\" >2</th>\n",
       "      <td id=\"T_2637d_row2_col0\" class=\"data row2 col0\" >0.6092</td>\n",
       "      <td id=\"T_2637d_row2_col1\" class=\"data row2 col1\" >0.5986</td>\n",
       "      <td id=\"T_2637d_row2_col2\" class=\"data row2 col2\" >0.5280</td>\n",
       "      <td id=\"T_2637d_row2_col3\" class=\"data row2 col3\" >0.2860</td>\n",
       "      <td id=\"T_2637d_row2_col4\" class=\"data row2 col4\" >0.3710</td>\n",
       "      <td id=\"T_2637d_row2_col5\" class=\"data row2 col5\" >0.1225</td>\n",
       "      <td id=\"T_2637d_row2_col6\" class=\"data row2 col6\" >0.1346</td>\n",
       "    </tr>\n",
       "    <tr>\n",
       "      <th id=\"T_2637d_level0_row3\" class=\"row_heading level0 row3\" >3</th>\n",
       "      <td id=\"T_2637d_row3_col0\" class=\"data row3 col0\" >0.5931</td>\n",
       "      <td id=\"T_2637d_row3_col1\" class=\"data row3 col1\" >0.5947</td>\n",
       "      <td id=\"T_2637d_row3_col2\" class=\"data row3 col2\" >0.5280</td>\n",
       "      <td id=\"T_2637d_row3_col3\" class=\"data row3 col3\" >0.2750</td>\n",
       "      <td id=\"T_2637d_row3_col4\" class=\"data row3 col4\" >0.3617</td>\n",
       "      <td id=\"T_2637d_row3_col5\" class=\"data row3 col5\" >0.1046</td>\n",
       "      <td id=\"T_2637d_row3_col6\" class=\"data row3 col6\" >0.1166</td>\n",
       "    </tr>\n",
       "    <tr>\n",
       "      <th id=\"T_2637d_level0_row4\" class=\"row_heading level0 row4\" >4</th>\n",
       "      <td id=\"T_2637d_row4_col0\" class=\"data row4 col0\" >0.6001</td>\n",
       "      <td id=\"T_2637d_row4_col1\" class=\"data row4 col1\" >0.6022</td>\n",
       "      <td id=\"T_2637d_row4_col2\" class=\"data row4 col2\" >0.5462</td>\n",
       "      <td id=\"T_2637d_row4_col3\" class=\"data row4 col3\" >0.2839</td>\n",
       "      <td id=\"T_2637d_row4_col4\" class=\"data row4 col4\" >0.3736</td>\n",
       "      <td id=\"T_2637d_row4_col5\" class=\"data row4 col5\" >0.1211</td>\n",
       "      <td id=\"T_2637d_row4_col6\" class=\"data row4 col6\" >0.1351</td>\n",
       "    </tr>\n",
       "    <tr>\n",
       "      <th id=\"T_2637d_level0_row5\" class=\"row_heading level0 row5\" >Mean</th>\n",
       "      <td id=\"T_2637d_row5_col0\" class=\"data row5 col0\" >0.5968</td>\n",
       "      <td id=\"T_2637d_row5_col1\" class=\"data row5 col1\" >0.5969</td>\n",
       "      <td id=\"T_2637d_row5_col2\" class=\"data row5 col2\" >0.5363</td>\n",
       "      <td id=\"T_2637d_row5_col3\" class=\"data row5 col3\" >0.2795</td>\n",
       "      <td id=\"T_2637d_row5_col4\" class=\"data row5 col4\" >0.3674</td>\n",
       "      <td id=\"T_2637d_row5_col5\" class=\"data row5 col5\" >0.1127</td>\n",
       "      <td id=\"T_2637d_row5_col6\" class=\"data row5 col6\" >0.1256</td>\n",
       "    </tr>\n",
       "    <tr>\n",
       "      <th id=\"T_2637d_level0_row6\" class=\"row_heading level0 row6\" >Std</th>\n",
       "      <td id=\"T_2637d_row6_col0\" class=\"data row6 col0\" >0.0071</td>\n",
       "      <td id=\"T_2637d_row6_col1\" class=\"data row6 col1\" >0.0046</td>\n",
       "      <td id=\"T_2637d_row6_col2\" class=\"data row6 col2\" >0.0090</td>\n",
       "      <td id=\"T_2637d_row6_col3\" class=\"data row6 col3\" >0.0046</td>\n",
       "      <td id=\"T_2637d_row6_col4\" class=\"data row6 col4\" >0.0047</td>\n",
       "      <td id=\"T_2637d_row6_col5\" class=\"data row6 col5\" >0.0077</td>\n",
       "      <td id=\"T_2637d_row6_col6\" class=\"data row6 col6\" >0.0081</td>\n",
       "    </tr>\n",
       "  </tbody>\n",
       "</table>\n"
      ],
      "text/plain": [
       "<pandas.io.formats.style.Styler at 0x147018c40>"
      ]
     },
     "metadata": {},
     "output_type": "display_data"
    }
   ],
   "source": [
    "lr = create_model('lr', fold = 5)"
   ]
  },
  {
   "cell_type": "code",
   "execution_count": 53,
   "metadata": {},
   "outputs": [
    {
     "data": {
      "text/html": [
       "<style type=\"text/css\">\n",
       "#T_3247b_row5_col0, #T_3247b_row5_col1, #T_3247b_row5_col2, #T_3247b_row5_col3, #T_3247b_row5_col4, #T_3247b_row5_col5, #T_3247b_row5_col6 {\n",
       "  background: yellow;\n",
       "}\n",
       "</style>\n",
       "<table id=\"T_3247b\">\n",
       "  <thead>\n",
       "    <tr>\n",
       "      <th class=\"blank level0\" >&nbsp;</th>\n",
       "      <th id=\"T_3247b_level0_col0\" class=\"col_heading level0 col0\" >Accuracy</th>\n",
       "      <th id=\"T_3247b_level0_col1\" class=\"col_heading level0 col1\" >AUC</th>\n",
       "      <th id=\"T_3247b_level0_col2\" class=\"col_heading level0 col2\" >Recall</th>\n",
       "      <th id=\"T_3247b_level0_col3\" class=\"col_heading level0 col3\" >Prec.</th>\n",
       "      <th id=\"T_3247b_level0_col4\" class=\"col_heading level0 col4\" >F1</th>\n",
       "      <th id=\"T_3247b_level0_col5\" class=\"col_heading level0 col5\" >Kappa</th>\n",
       "      <th id=\"T_3247b_level0_col6\" class=\"col_heading level0 col6\" >MCC</th>\n",
       "    </tr>\n",
       "    <tr>\n",
       "      <th class=\"index_name level0\" >Fold</th>\n",
       "      <th class=\"blank col0\" >&nbsp;</th>\n",
       "      <th class=\"blank col1\" >&nbsp;</th>\n",
       "      <th class=\"blank col2\" >&nbsp;</th>\n",
       "      <th class=\"blank col3\" >&nbsp;</th>\n",
       "      <th class=\"blank col4\" >&nbsp;</th>\n",
       "      <th class=\"blank col5\" >&nbsp;</th>\n",
       "      <th class=\"blank col6\" >&nbsp;</th>\n",
       "    </tr>\n",
       "  </thead>\n",
       "  <tbody>\n",
       "    <tr>\n",
       "      <th id=\"T_3247b_level0_row0\" class=\"row_heading level0 row0\" >0</th>\n",
       "      <td id=\"T_3247b_row0_col0\" class=\"data row0 col0\" >0.7461</td>\n",
       "      <td id=\"T_3247b_row0_col1\" class=\"data row0 col1\" >0.5907</td>\n",
       "      <td id=\"T_3247b_row0_col2\" class=\"data row0 col2\" >0.1434</td>\n",
       "      <td id=\"T_3247b_row0_col3\" class=\"data row0 col3\" >0.3193</td>\n",
       "      <td id=\"T_3247b_row0_col4\" class=\"data row0 col4\" >0.1979</td>\n",
       "      <td id=\"T_3247b_row0_col5\" class=\"data row0 col5\" >0.0723</td>\n",
       "      <td id=\"T_3247b_row0_col6\" class=\"data row0 col6\" >0.0805</td>\n",
       "    </tr>\n",
       "    <tr>\n",
       "      <th id=\"T_3247b_level0_row1\" class=\"row_heading level0 row1\" >1</th>\n",
       "      <td id=\"T_3247b_row1_col0\" class=\"data row1 col0\" >0.7496</td>\n",
       "      <td id=\"T_3247b_row1_col1\" class=\"data row1 col1\" >0.5863</td>\n",
       "      <td id=\"T_3247b_row1_col2\" class=\"data row1 col2\" >0.1362</td>\n",
       "      <td id=\"T_3247b_row1_col3\" class=\"data row1 col3\" >0.3247</td>\n",
       "      <td id=\"T_3247b_row1_col4\" class=\"data row1 col4\" >0.1919</td>\n",
       "      <td id=\"T_3247b_row1_col5\" class=\"data row1 col5\" >0.0722</td>\n",
       "      <td id=\"T_3247b_row1_col6\" class=\"data row1 col6\" >0.0817</td>\n",
       "    </tr>\n",
       "    <tr>\n",
       "      <th id=\"T_3247b_level0_row2\" class=\"row_heading level0 row2\" >2</th>\n",
       "      <td id=\"T_3247b_row2_col0\" class=\"data row2 col0\" >0.7554</td>\n",
       "      <td id=\"T_3247b_row2_col1\" class=\"data row2 col1\" >0.6106</td>\n",
       "      <td id=\"T_3247b_row2_col2\" class=\"data row2 col2\" >0.1559</td>\n",
       "      <td id=\"T_3247b_row2_col3\" class=\"data row2 col3\" >0.3609</td>\n",
       "      <td id=\"T_3247b_row2_col4\" class=\"data row2 col4\" >0.2177</td>\n",
       "      <td id=\"T_3247b_row2_col5\" class=\"data row2 col5\" >0.0990</td>\n",
       "      <td id=\"T_3247b_row2_col6\" class=\"data row2 col6\" >0.1113</td>\n",
       "    </tr>\n",
       "    <tr>\n",
       "      <th id=\"T_3247b_level0_row3\" class=\"row_heading level0 row3\" >3</th>\n",
       "      <td id=\"T_3247b_row3_col0\" class=\"data row3 col0\" >0.7454</td>\n",
       "      <td id=\"T_3247b_row3_col1\" class=\"data row3 col1\" >0.5892</td>\n",
       "      <td id=\"T_3247b_row3_col2\" class=\"data row3 col2\" >0.1449</td>\n",
       "      <td id=\"T_3247b_row3_col3\" class=\"data row3 col3\" >0.3179</td>\n",
       "      <td id=\"T_3247b_row3_col4\" class=\"data row3 col4\" >0.1991</td>\n",
       "      <td id=\"T_3247b_row3_col5\" class=\"data row3 col5\" >0.0722</td>\n",
       "      <td id=\"T_3247b_row3_col6\" class=\"data row3 col6\" >0.0801</td>\n",
       "    </tr>\n",
       "    <tr>\n",
       "      <th id=\"T_3247b_level0_row4\" class=\"row_heading level0 row4\" >4</th>\n",
       "      <td id=\"T_3247b_row4_col0\" class=\"data row4 col0\" >0.7504</td>\n",
       "      <td id=\"T_3247b_row4_col1\" class=\"data row4 col1\" >0.5919</td>\n",
       "      <td id=\"T_3247b_row4_col2\" class=\"data row4 col2\" >0.1340</td>\n",
       "      <td id=\"T_3247b_row4_col3\" class=\"data row4 col3\" >0.3257</td>\n",
       "      <td id=\"T_3247b_row4_col4\" class=\"data row4 col4\" >0.1899</td>\n",
       "      <td id=\"T_3247b_row4_col5\" class=\"data row4 col5\" >0.0717</td>\n",
       "      <td id=\"T_3247b_row4_col6\" class=\"data row4 col6\" >0.0816</td>\n",
       "    </tr>\n",
       "    <tr>\n",
       "      <th id=\"T_3247b_level0_row5\" class=\"row_heading level0 row5\" >Mean</th>\n",
       "      <td id=\"T_3247b_row5_col0\" class=\"data row5 col0\" >0.7494</td>\n",
       "      <td id=\"T_3247b_row5_col1\" class=\"data row5 col1\" >0.5937</td>\n",
       "      <td id=\"T_3247b_row5_col2\" class=\"data row5 col2\" >0.1429</td>\n",
       "      <td id=\"T_3247b_row5_col3\" class=\"data row5 col3\" >0.3297</td>\n",
       "      <td id=\"T_3247b_row5_col4\" class=\"data row5 col4\" >0.1993</td>\n",
       "      <td id=\"T_3247b_row5_col5\" class=\"data row5 col5\" >0.0775</td>\n",
       "      <td id=\"T_3247b_row5_col6\" class=\"data row5 col6\" >0.0871</td>\n",
       "    </tr>\n",
       "    <tr>\n",
       "      <th id=\"T_3247b_level0_row6\" class=\"row_heading level0 row6\" >Std</th>\n",
       "      <td id=\"T_3247b_row6_col0\" class=\"data row6 col0\" >0.0036</td>\n",
       "      <td id=\"T_3247b_row6_col1\" class=\"data row6 col1\" >0.0086</td>\n",
       "      <td id=\"T_3247b_row6_col2\" class=\"data row6 col2\" >0.0077</td>\n",
       "      <td id=\"T_3247b_row6_col3\" class=\"data row6 col3\" >0.0159</td>\n",
       "      <td id=\"T_3247b_row6_col4\" class=\"data row6 col4\" >0.0098</td>\n",
       "      <td id=\"T_3247b_row6_col5\" class=\"data row6 col5\" >0.0108</td>\n",
       "      <td id=\"T_3247b_row6_col6\" class=\"data row6 col6\" >0.0122</td>\n",
       "    </tr>\n",
       "  </tbody>\n",
       "</table>\n"
      ],
      "text/plain": [
       "<pandas.io.formats.style.Styler at 0x16a2c13a0>"
      ]
     },
     "metadata": {},
     "output_type": "display_data"
    }
   ],
   "source": [
    "rf = create_model('rf', fold = 5)"
   ]
  },
  {
   "cell_type": "code",
   "execution_count": 54,
   "metadata": {
    "tags": []
   },
   "outputs": [
    {
     "data": {
      "text/html": [
       "<style type=\"text/css\">\n",
       "#T_20114_row10_col0, #T_20114_row10_col1, #T_20114_row10_col2, #T_20114_row10_col3, #T_20114_row10_col4, #T_20114_row10_col5, #T_20114_row10_col6 {\n",
       "  background: yellow;\n",
       "}\n",
       "</style>\n",
       "<table id=\"T_20114\">\n",
       "  <thead>\n",
       "    <tr>\n",
       "      <th class=\"blank level0\" >&nbsp;</th>\n",
       "      <th id=\"T_20114_level0_col0\" class=\"col_heading level0 col0\" >Accuracy</th>\n",
       "      <th id=\"T_20114_level0_col1\" class=\"col_heading level0 col1\" >AUC</th>\n",
       "      <th id=\"T_20114_level0_col2\" class=\"col_heading level0 col2\" >Recall</th>\n",
       "      <th id=\"T_20114_level0_col3\" class=\"col_heading level0 col3\" >Prec.</th>\n",
       "      <th id=\"T_20114_level0_col4\" class=\"col_heading level0 col4\" >F1</th>\n",
       "      <th id=\"T_20114_level0_col5\" class=\"col_heading level0 col5\" >Kappa</th>\n",
       "      <th id=\"T_20114_level0_col6\" class=\"col_heading level0 col6\" >MCC</th>\n",
       "    </tr>\n",
       "    <tr>\n",
       "      <th class=\"index_name level0\" >Fold</th>\n",
       "      <th class=\"blank col0\" >&nbsp;</th>\n",
       "      <th class=\"blank col1\" >&nbsp;</th>\n",
       "      <th class=\"blank col2\" >&nbsp;</th>\n",
       "      <th class=\"blank col3\" >&nbsp;</th>\n",
       "      <th class=\"blank col4\" >&nbsp;</th>\n",
       "      <th class=\"blank col5\" >&nbsp;</th>\n",
       "      <th class=\"blank col6\" >&nbsp;</th>\n",
       "    </tr>\n",
       "  </thead>\n",
       "  <tbody>\n",
       "    <tr>\n",
       "      <th id=\"T_20114_level0_row0\" class=\"row_heading level0 row0\" >0</th>\n",
       "      <td id=\"T_20114_row0_col0\" class=\"data row0 col0\" >0.7816</td>\n",
       "      <td id=\"T_20114_row0_col1\" class=\"data row0 col1\" >0.5000</td>\n",
       "      <td id=\"T_20114_row0_col2\" class=\"data row0 col2\" >0.0000</td>\n",
       "      <td id=\"T_20114_row0_col3\" class=\"data row0 col3\" >0.0000</td>\n",
       "      <td id=\"T_20114_row0_col4\" class=\"data row0 col4\" >0.0000</td>\n",
       "      <td id=\"T_20114_row0_col5\" class=\"data row0 col5\" >0.0000</td>\n",
       "      <td id=\"T_20114_row0_col6\" class=\"data row0 col6\" >0.0000</td>\n",
       "    </tr>\n",
       "    <tr>\n",
       "      <th id=\"T_20114_level0_row1\" class=\"row_heading level0 row1\" >1</th>\n",
       "      <td id=\"T_20114_row1_col0\" class=\"data row1 col0\" >0.7816</td>\n",
       "      <td id=\"T_20114_row1_col1\" class=\"data row1 col1\" >0.5000</td>\n",
       "      <td id=\"T_20114_row1_col2\" class=\"data row1 col2\" >0.0000</td>\n",
       "      <td id=\"T_20114_row1_col3\" class=\"data row1 col3\" >0.0000</td>\n",
       "      <td id=\"T_20114_row1_col4\" class=\"data row1 col4\" >0.0000</td>\n",
       "      <td id=\"T_20114_row1_col5\" class=\"data row1 col5\" >0.0000</td>\n",
       "      <td id=\"T_20114_row1_col6\" class=\"data row1 col6\" >0.0000</td>\n",
       "    </tr>\n",
       "    <tr>\n",
       "      <th id=\"T_20114_level0_row2\" class=\"row_heading level0 row2\" >2</th>\n",
       "      <td id=\"T_20114_row2_col0\" class=\"data row2 col0\" >0.7816</td>\n",
       "      <td id=\"T_20114_row2_col1\" class=\"data row2 col1\" >0.5000</td>\n",
       "      <td id=\"T_20114_row2_col2\" class=\"data row2 col2\" >0.0000</td>\n",
       "      <td id=\"T_20114_row2_col3\" class=\"data row2 col3\" >0.0000</td>\n",
       "      <td id=\"T_20114_row2_col4\" class=\"data row2 col4\" >0.0000</td>\n",
       "      <td id=\"T_20114_row2_col5\" class=\"data row2 col5\" >0.0000</td>\n",
       "      <td id=\"T_20114_row2_col6\" class=\"data row2 col6\" >0.0000</td>\n",
       "    </tr>\n",
       "    <tr>\n",
       "      <th id=\"T_20114_level0_row3\" class=\"row_heading level0 row3\" >3</th>\n",
       "      <td id=\"T_20114_row3_col0\" class=\"data row3 col0\" >0.7816</td>\n",
       "      <td id=\"T_20114_row3_col1\" class=\"data row3 col1\" >0.5000</td>\n",
       "      <td id=\"T_20114_row3_col2\" class=\"data row3 col2\" >0.0000</td>\n",
       "      <td id=\"T_20114_row3_col3\" class=\"data row3 col3\" >0.0000</td>\n",
       "      <td id=\"T_20114_row3_col4\" class=\"data row3 col4\" >0.0000</td>\n",
       "      <td id=\"T_20114_row3_col5\" class=\"data row3 col5\" >0.0000</td>\n",
       "      <td id=\"T_20114_row3_col6\" class=\"data row3 col6\" >0.0000</td>\n",
       "    </tr>\n",
       "    <tr>\n",
       "      <th id=\"T_20114_level0_row4\" class=\"row_heading level0 row4\" >4</th>\n",
       "      <td id=\"T_20114_row4_col0\" class=\"data row4 col0\" >0.7816</td>\n",
       "      <td id=\"T_20114_row4_col1\" class=\"data row4 col1\" >0.5000</td>\n",
       "      <td id=\"T_20114_row4_col2\" class=\"data row4 col2\" >0.0000</td>\n",
       "      <td id=\"T_20114_row4_col3\" class=\"data row4 col3\" >0.0000</td>\n",
       "      <td id=\"T_20114_row4_col4\" class=\"data row4 col4\" >0.0000</td>\n",
       "      <td id=\"T_20114_row4_col5\" class=\"data row4 col5\" >0.0000</td>\n",
       "      <td id=\"T_20114_row4_col6\" class=\"data row4 col6\" >0.0000</td>\n",
       "    </tr>\n",
       "    <tr>\n",
       "      <th id=\"T_20114_level0_row5\" class=\"row_heading level0 row5\" >5</th>\n",
       "      <td id=\"T_20114_row5_col0\" class=\"data row5 col0\" >0.7816</td>\n",
       "      <td id=\"T_20114_row5_col1\" class=\"data row5 col1\" >0.5000</td>\n",
       "      <td id=\"T_20114_row5_col2\" class=\"data row5 col2\" >0.0000</td>\n",
       "      <td id=\"T_20114_row5_col3\" class=\"data row5 col3\" >0.0000</td>\n",
       "      <td id=\"T_20114_row5_col4\" class=\"data row5 col4\" >0.0000</td>\n",
       "      <td id=\"T_20114_row5_col5\" class=\"data row5 col5\" >0.0000</td>\n",
       "      <td id=\"T_20114_row5_col6\" class=\"data row5 col6\" >0.0000</td>\n",
       "    </tr>\n",
       "    <tr>\n",
       "      <th id=\"T_20114_level0_row6\" class=\"row_heading level0 row6\" >6</th>\n",
       "      <td id=\"T_20114_row6_col0\" class=\"data row6 col0\" >0.7818</td>\n",
       "      <td id=\"T_20114_row6_col1\" class=\"data row6 col1\" >0.5000</td>\n",
       "      <td id=\"T_20114_row6_col2\" class=\"data row6 col2\" >0.0000</td>\n",
       "      <td id=\"T_20114_row6_col3\" class=\"data row6 col3\" >0.0000</td>\n",
       "      <td id=\"T_20114_row6_col4\" class=\"data row6 col4\" >0.0000</td>\n",
       "      <td id=\"T_20114_row6_col5\" class=\"data row6 col5\" >0.0000</td>\n",
       "      <td id=\"T_20114_row6_col6\" class=\"data row6 col6\" >0.0000</td>\n",
       "    </tr>\n",
       "    <tr>\n",
       "      <th id=\"T_20114_level0_row7\" class=\"row_heading level0 row7\" >7</th>\n",
       "      <td id=\"T_20114_row7_col0\" class=\"data row7 col0\" >0.7818</td>\n",
       "      <td id=\"T_20114_row7_col1\" class=\"data row7 col1\" >0.5000</td>\n",
       "      <td id=\"T_20114_row7_col2\" class=\"data row7 col2\" >0.0000</td>\n",
       "      <td id=\"T_20114_row7_col3\" class=\"data row7 col3\" >0.0000</td>\n",
       "      <td id=\"T_20114_row7_col4\" class=\"data row7 col4\" >0.0000</td>\n",
       "      <td id=\"T_20114_row7_col5\" class=\"data row7 col5\" >0.0000</td>\n",
       "      <td id=\"T_20114_row7_col6\" class=\"data row7 col6\" >0.0000</td>\n",
       "    </tr>\n",
       "    <tr>\n",
       "      <th id=\"T_20114_level0_row8\" class=\"row_heading level0 row8\" >8</th>\n",
       "      <td id=\"T_20114_row8_col0\" class=\"data row8 col0\" >0.7818</td>\n",
       "      <td id=\"T_20114_row8_col1\" class=\"data row8 col1\" >0.5000</td>\n",
       "      <td id=\"T_20114_row8_col2\" class=\"data row8 col2\" >0.0000</td>\n",
       "      <td id=\"T_20114_row8_col3\" class=\"data row8 col3\" >0.0000</td>\n",
       "      <td id=\"T_20114_row8_col4\" class=\"data row8 col4\" >0.0000</td>\n",
       "      <td id=\"T_20114_row8_col5\" class=\"data row8 col5\" >0.0000</td>\n",
       "      <td id=\"T_20114_row8_col6\" class=\"data row8 col6\" >0.0000</td>\n",
       "    </tr>\n",
       "    <tr>\n",
       "      <th id=\"T_20114_level0_row9\" class=\"row_heading level0 row9\" >9</th>\n",
       "      <td id=\"T_20114_row9_col0\" class=\"data row9 col0\" >0.7818</td>\n",
       "      <td id=\"T_20114_row9_col1\" class=\"data row9 col1\" >0.5000</td>\n",
       "      <td id=\"T_20114_row9_col2\" class=\"data row9 col2\" >0.0000</td>\n",
       "      <td id=\"T_20114_row9_col3\" class=\"data row9 col3\" >0.0000</td>\n",
       "      <td id=\"T_20114_row9_col4\" class=\"data row9 col4\" >0.0000</td>\n",
       "      <td id=\"T_20114_row9_col5\" class=\"data row9 col5\" >0.0000</td>\n",
       "      <td id=\"T_20114_row9_col6\" class=\"data row9 col6\" >0.0000</td>\n",
       "    </tr>\n",
       "    <tr>\n",
       "      <th id=\"T_20114_level0_row10\" class=\"row_heading level0 row10\" >Mean</th>\n",
       "      <td id=\"T_20114_row10_col0\" class=\"data row10 col0\" >0.7817</td>\n",
       "      <td id=\"T_20114_row10_col1\" class=\"data row10 col1\" >0.5000</td>\n",
       "      <td id=\"T_20114_row10_col2\" class=\"data row10 col2\" >0.0000</td>\n",
       "      <td id=\"T_20114_row10_col3\" class=\"data row10 col3\" >0.0000</td>\n",
       "      <td id=\"T_20114_row10_col4\" class=\"data row10 col4\" >0.0000</td>\n",
       "      <td id=\"T_20114_row10_col5\" class=\"data row10 col5\" >0.0000</td>\n",
       "      <td id=\"T_20114_row10_col6\" class=\"data row10 col6\" >0.0000</td>\n",
       "    </tr>\n",
       "    <tr>\n",
       "      <th id=\"T_20114_level0_row11\" class=\"row_heading level0 row11\" >Std</th>\n",
       "      <td id=\"T_20114_row11_col0\" class=\"data row11 col0\" >0.0001</td>\n",
       "      <td id=\"T_20114_row11_col1\" class=\"data row11 col1\" >0.0000</td>\n",
       "      <td id=\"T_20114_row11_col2\" class=\"data row11 col2\" >0.0000</td>\n",
       "      <td id=\"T_20114_row11_col3\" class=\"data row11 col3\" >0.0000</td>\n",
       "      <td id=\"T_20114_row11_col4\" class=\"data row11 col4\" >0.0000</td>\n",
       "      <td id=\"T_20114_row11_col5\" class=\"data row11 col5\" >0.0000</td>\n",
       "      <td id=\"T_20114_row11_col6\" class=\"data row11 col6\" >0.0000</td>\n",
       "    </tr>\n",
       "  </tbody>\n",
       "</table>\n"
      ],
      "text/plain": [
       "<pandas.io.formats.style.Styler at 0x150a5b1c0>"
      ]
     },
     "metadata": {},
     "output_type": "display_data"
    }
   ],
   "source": [
    "tuned_rf = tune_model(rf)"
   ]
  },
  {
   "cell_type": "code",
   "execution_count": 55,
   "metadata": {},
   "outputs": [
    {
     "data": {
      "text/html": [
       "<style type=\"text/css\">\n",
       "#T_9e656_row10_col0, #T_9e656_row10_col1, #T_9e656_row10_col2, #T_9e656_row10_col3, #T_9e656_row10_col4, #T_9e656_row10_col5, #T_9e656_row10_col6 {\n",
       "  background: yellow;\n",
       "}\n",
       "</style>\n",
       "<table id=\"T_9e656\">\n",
       "  <thead>\n",
       "    <tr>\n",
       "      <th class=\"blank level0\" >&nbsp;</th>\n",
       "      <th id=\"T_9e656_level0_col0\" class=\"col_heading level0 col0\" >Accuracy</th>\n",
       "      <th id=\"T_9e656_level0_col1\" class=\"col_heading level0 col1\" >AUC</th>\n",
       "      <th id=\"T_9e656_level0_col2\" class=\"col_heading level0 col2\" >Recall</th>\n",
       "      <th id=\"T_9e656_level0_col3\" class=\"col_heading level0 col3\" >Prec.</th>\n",
       "      <th id=\"T_9e656_level0_col4\" class=\"col_heading level0 col4\" >F1</th>\n",
       "      <th id=\"T_9e656_level0_col5\" class=\"col_heading level0 col5\" >Kappa</th>\n",
       "      <th id=\"T_9e656_level0_col6\" class=\"col_heading level0 col6\" >MCC</th>\n",
       "    </tr>\n",
       "    <tr>\n",
       "      <th class=\"index_name level0\" >Fold</th>\n",
       "      <th class=\"blank col0\" >&nbsp;</th>\n",
       "      <th class=\"blank col1\" >&nbsp;</th>\n",
       "      <th class=\"blank col2\" >&nbsp;</th>\n",
       "      <th class=\"blank col3\" >&nbsp;</th>\n",
       "      <th class=\"blank col4\" >&nbsp;</th>\n",
       "      <th class=\"blank col5\" >&nbsp;</th>\n",
       "      <th class=\"blank col6\" >&nbsp;</th>\n",
       "    </tr>\n",
       "  </thead>\n",
       "  <tbody>\n",
       "    <tr>\n",
       "      <th id=\"T_9e656_level0_row0\" class=\"row_heading level0 row0\" >0</th>\n",
       "      <td id=\"T_9e656_row0_col0\" class=\"data row0 col0\" >0.7816</td>\n",
       "      <td id=\"T_9e656_row0_col1\" class=\"data row0 col1\" >0.5000</td>\n",
       "      <td id=\"T_9e656_row0_col2\" class=\"data row0 col2\" >0.0000</td>\n",
       "      <td id=\"T_9e656_row0_col3\" class=\"data row0 col3\" >0.0000</td>\n",
       "      <td id=\"T_9e656_row0_col4\" class=\"data row0 col4\" >0.0000</td>\n",
       "      <td id=\"T_9e656_row0_col5\" class=\"data row0 col5\" >0.0000</td>\n",
       "      <td id=\"T_9e656_row0_col6\" class=\"data row0 col6\" >0.0000</td>\n",
       "    </tr>\n",
       "    <tr>\n",
       "      <th id=\"T_9e656_level0_row1\" class=\"row_heading level0 row1\" >1</th>\n",
       "      <td id=\"T_9e656_row1_col0\" class=\"data row1 col0\" >0.7816</td>\n",
       "      <td id=\"T_9e656_row1_col1\" class=\"data row1 col1\" >0.5000</td>\n",
       "      <td id=\"T_9e656_row1_col2\" class=\"data row1 col2\" >0.0000</td>\n",
       "      <td id=\"T_9e656_row1_col3\" class=\"data row1 col3\" >0.0000</td>\n",
       "      <td id=\"T_9e656_row1_col4\" class=\"data row1 col4\" >0.0000</td>\n",
       "      <td id=\"T_9e656_row1_col5\" class=\"data row1 col5\" >0.0000</td>\n",
       "      <td id=\"T_9e656_row1_col6\" class=\"data row1 col6\" >0.0000</td>\n",
       "    </tr>\n",
       "    <tr>\n",
       "      <th id=\"T_9e656_level0_row2\" class=\"row_heading level0 row2\" >2</th>\n",
       "      <td id=\"T_9e656_row2_col0\" class=\"data row2 col0\" >0.7816</td>\n",
       "      <td id=\"T_9e656_row2_col1\" class=\"data row2 col1\" >0.5000</td>\n",
       "      <td id=\"T_9e656_row2_col2\" class=\"data row2 col2\" >0.0000</td>\n",
       "      <td id=\"T_9e656_row2_col3\" class=\"data row2 col3\" >0.0000</td>\n",
       "      <td id=\"T_9e656_row2_col4\" class=\"data row2 col4\" >0.0000</td>\n",
       "      <td id=\"T_9e656_row2_col5\" class=\"data row2 col5\" >0.0000</td>\n",
       "      <td id=\"T_9e656_row2_col6\" class=\"data row2 col6\" >0.0000</td>\n",
       "    </tr>\n",
       "    <tr>\n",
       "      <th id=\"T_9e656_level0_row3\" class=\"row_heading level0 row3\" >3</th>\n",
       "      <td id=\"T_9e656_row3_col0\" class=\"data row3 col0\" >0.7816</td>\n",
       "      <td id=\"T_9e656_row3_col1\" class=\"data row3 col1\" >0.5000</td>\n",
       "      <td id=\"T_9e656_row3_col2\" class=\"data row3 col2\" >0.0000</td>\n",
       "      <td id=\"T_9e656_row3_col3\" class=\"data row3 col3\" >0.0000</td>\n",
       "      <td id=\"T_9e656_row3_col4\" class=\"data row3 col4\" >0.0000</td>\n",
       "      <td id=\"T_9e656_row3_col5\" class=\"data row3 col5\" >0.0000</td>\n",
       "      <td id=\"T_9e656_row3_col6\" class=\"data row3 col6\" >0.0000</td>\n",
       "    </tr>\n",
       "    <tr>\n",
       "      <th id=\"T_9e656_level0_row4\" class=\"row_heading level0 row4\" >4</th>\n",
       "      <td id=\"T_9e656_row4_col0\" class=\"data row4 col0\" >0.7816</td>\n",
       "      <td id=\"T_9e656_row4_col1\" class=\"data row4 col1\" >0.5000</td>\n",
       "      <td id=\"T_9e656_row4_col2\" class=\"data row4 col2\" >0.0000</td>\n",
       "      <td id=\"T_9e656_row4_col3\" class=\"data row4 col3\" >0.0000</td>\n",
       "      <td id=\"T_9e656_row4_col4\" class=\"data row4 col4\" >0.0000</td>\n",
       "      <td id=\"T_9e656_row4_col5\" class=\"data row4 col5\" >0.0000</td>\n",
       "      <td id=\"T_9e656_row4_col6\" class=\"data row4 col6\" >0.0000</td>\n",
       "    </tr>\n",
       "    <tr>\n",
       "      <th id=\"T_9e656_level0_row5\" class=\"row_heading level0 row5\" >5</th>\n",
       "      <td id=\"T_9e656_row5_col0\" class=\"data row5 col0\" >0.7816</td>\n",
       "      <td id=\"T_9e656_row5_col1\" class=\"data row5 col1\" >0.5000</td>\n",
       "      <td id=\"T_9e656_row5_col2\" class=\"data row5 col2\" >0.0000</td>\n",
       "      <td id=\"T_9e656_row5_col3\" class=\"data row5 col3\" >0.0000</td>\n",
       "      <td id=\"T_9e656_row5_col4\" class=\"data row5 col4\" >0.0000</td>\n",
       "      <td id=\"T_9e656_row5_col5\" class=\"data row5 col5\" >0.0000</td>\n",
       "      <td id=\"T_9e656_row5_col6\" class=\"data row5 col6\" >0.0000</td>\n",
       "    </tr>\n",
       "    <tr>\n",
       "      <th id=\"T_9e656_level0_row6\" class=\"row_heading level0 row6\" >6</th>\n",
       "      <td id=\"T_9e656_row6_col0\" class=\"data row6 col0\" >0.7818</td>\n",
       "      <td id=\"T_9e656_row6_col1\" class=\"data row6 col1\" >0.5000</td>\n",
       "      <td id=\"T_9e656_row6_col2\" class=\"data row6 col2\" >0.0000</td>\n",
       "      <td id=\"T_9e656_row6_col3\" class=\"data row6 col3\" >0.0000</td>\n",
       "      <td id=\"T_9e656_row6_col4\" class=\"data row6 col4\" >0.0000</td>\n",
       "      <td id=\"T_9e656_row6_col5\" class=\"data row6 col5\" >0.0000</td>\n",
       "      <td id=\"T_9e656_row6_col6\" class=\"data row6 col6\" >0.0000</td>\n",
       "    </tr>\n",
       "    <tr>\n",
       "      <th id=\"T_9e656_level0_row7\" class=\"row_heading level0 row7\" >7</th>\n",
       "      <td id=\"T_9e656_row7_col0\" class=\"data row7 col0\" >0.7818</td>\n",
       "      <td id=\"T_9e656_row7_col1\" class=\"data row7 col1\" >0.5000</td>\n",
       "      <td id=\"T_9e656_row7_col2\" class=\"data row7 col2\" >0.0000</td>\n",
       "      <td id=\"T_9e656_row7_col3\" class=\"data row7 col3\" >0.0000</td>\n",
       "      <td id=\"T_9e656_row7_col4\" class=\"data row7 col4\" >0.0000</td>\n",
       "      <td id=\"T_9e656_row7_col5\" class=\"data row7 col5\" >0.0000</td>\n",
       "      <td id=\"T_9e656_row7_col6\" class=\"data row7 col6\" >0.0000</td>\n",
       "    </tr>\n",
       "    <tr>\n",
       "      <th id=\"T_9e656_level0_row8\" class=\"row_heading level0 row8\" >8</th>\n",
       "      <td id=\"T_9e656_row8_col0\" class=\"data row8 col0\" >0.7818</td>\n",
       "      <td id=\"T_9e656_row8_col1\" class=\"data row8 col1\" >0.5000</td>\n",
       "      <td id=\"T_9e656_row8_col2\" class=\"data row8 col2\" >0.0000</td>\n",
       "      <td id=\"T_9e656_row8_col3\" class=\"data row8 col3\" >0.0000</td>\n",
       "      <td id=\"T_9e656_row8_col4\" class=\"data row8 col4\" >0.0000</td>\n",
       "      <td id=\"T_9e656_row8_col5\" class=\"data row8 col5\" >0.0000</td>\n",
       "      <td id=\"T_9e656_row8_col6\" class=\"data row8 col6\" >0.0000</td>\n",
       "    </tr>\n",
       "    <tr>\n",
       "      <th id=\"T_9e656_level0_row9\" class=\"row_heading level0 row9\" >9</th>\n",
       "      <td id=\"T_9e656_row9_col0\" class=\"data row9 col0\" >0.7818</td>\n",
       "      <td id=\"T_9e656_row9_col1\" class=\"data row9 col1\" >0.5000</td>\n",
       "      <td id=\"T_9e656_row9_col2\" class=\"data row9 col2\" >0.0000</td>\n",
       "      <td id=\"T_9e656_row9_col3\" class=\"data row9 col3\" >0.0000</td>\n",
       "      <td id=\"T_9e656_row9_col4\" class=\"data row9 col4\" >0.0000</td>\n",
       "      <td id=\"T_9e656_row9_col5\" class=\"data row9 col5\" >0.0000</td>\n",
       "      <td id=\"T_9e656_row9_col6\" class=\"data row9 col6\" >0.0000</td>\n",
       "    </tr>\n",
       "    <tr>\n",
       "      <th id=\"T_9e656_level0_row10\" class=\"row_heading level0 row10\" >Mean</th>\n",
       "      <td id=\"T_9e656_row10_col0\" class=\"data row10 col0\" >0.7817</td>\n",
       "      <td id=\"T_9e656_row10_col1\" class=\"data row10 col1\" >0.5000</td>\n",
       "      <td id=\"T_9e656_row10_col2\" class=\"data row10 col2\" >0.0000</td>\n",
       "      <td id=\"T_9e656_row10_col3\" class=\"data row10 col3\" >0.0000</td>\n",
       "      <td id=\"T_9e656_row10_col4\" class=\"data row10 col4\" >0.0000</td>\n",
       "      <td id=\"T_9e656_row10_col5\" class=\"data row10 col5\" >0.0000</td>\n",
       "      <td id=\"T_9e656_row10_col6\" class=\"data row10 col6\" >0.0000</td>\n",
       "    </tr>\n",
       "    <tr>\n",
       "      <th id=\"T_9e656_level0_row11\" class=\"row_heading level0 row11\" >Std</th>\n",
       "      <td id=\"T_9e656_row11_col0\" class=\"data row11 col0\" >0.0001</td>\n",
       "      <td id=\"T_9e656_row11_col1\" class=\"data row11 col1\" >0.0000</td>\n",
       "      <td id=\"T_9e656_row11_col2\" class=\"data row11 col2\" >0.0000</td>\n",
       "      <td id=\"T_9e656_row11_col3\" class=\"data row11 col3\" >0.0000</td>\n",
       "      <td id=\"T_9e656_row11_col4\" class=\"data row11 col4\" >0.0000</td>\n",
       "      <td id=\"T_9e656_row11_col5\" class=\"data row11 col5\" >0.0000</td>\n",
       "      <td id=\"T_9e656_row11_col6\" class=\"data row11 col6\" >0.0000</td>\n",
       "    </tr>\n",
       "  </tbody>\n",
       "</table>\n"
      ],
      "text/plain": [
       "<pandas.io.formats.style.Styler at 0x1524d1eb0>"
      ]
     },
     "metadata": {},
     "output_type": "display_data"
    }
   ],
   "source": [
    "boosted_rf = ensemble_model(tuned_rf,method='Boosting')"
   ]
  },
  {
   "cell_type": "code",
   "execution_count": 48,
   "metadata": {
    "id": "AuoXSGcvqWtu",
    "tags": []
   },
   "outputs": [
    {
     "data": {
      "image/png": "[encoded data removed]",
      "text/plain": [
       "<Figure size 800x500 with 1 Axes>"
      ]
     },
     "metadata": {},
     "output_type": "display_data"
    }
   ],
   "source": [
    "plot_model(lr, plot = 'feature')"
   ]
  },
  {
   "cell_type": "code",
   "execution_count": 57,
   "metadata": {
    "id": "hLLEiPT0NiS9",
    "tags": []
   },
   "outputs": [
    {
     "data": {
      "image/png": "[encoded data removed]",
      "text/plain": [
       "<Figure size 576x396 with 1 Axes>"
      ]
     },
     "metadata": {},
     "output_type": "display_data"
    }
   ],
   "source": [
    "plot_model(rf, plot = 'confusion_matrix',plot_kwargs={'percent':True})"
   ]
  },
  {
   "cell_type": "code",
   "execution_count": 58,
   "metadata": {},
   "outputs": [
    {
     "data": {
      "application/vnd.jupyter.widget-view+json": {
       "model_id": "bb0982254db245838df833ad657fedbc",
       "version_major": 2,
       "version_minor": 0
      },
      "text/plain": [
       "interactive(children=(ToggleButtons(description='Plot Type:', icons=('',), options=(('Hyperparameters', 'param…"
      ]
     },
     "metadata": {},
     "output_type": "display_data"
    }
   ],
   "source": [
    "evaluate_model(rf)"
   ]
  },
  {
   "cell_type": "code",
   "execution_count": 50,
   "metadata": {
    "id": "oX_e9DAONiVy"
   },
   "outputs": [
    {
     "data": {
      "image/png": "[encoded data removed]",
      "text/plain": [
       "<Figure size 576x396 with 1 Axes>"
      ]
     },
     "metadata": {},
     "output_type": "display_data"
    }
   ],
   "source": [
    "plot_model(lr, plot = 'auc')"
   ]
  },
  {
   "cell_type": "code",
   "execution_count": 51,
   "metadata": {
    "id": "jky97WkRNiYD"
   },
   "outputs": [
    {
     "data": {
      "image/png": "[encoded data removed]",
      "text/plain": [
       "<Figure size 576x396 with 1 Axes>"
      ]
     },
     "metadata": {},
     "output_type": "display_data"
    }
   ],
   "source": [
    "plot_model(lr, plot = 'pr')"
   ]
  },
  {
   "cell_type": "code",
   "execution_count": 52,
   "metadata": {
    "id": "ETe-VBgeqs0O"
   },
   "outputs": [
    {
     "data": {
      "text/html": [
       "<div>\n",
       "<style scoped>\n",
       "    .dataframe tbody tr th:only-of-type {\n",
       "        vertical-align: middle;\n",
       "    }\n",
       "\n",
       "    .dataframe tbody tr th {\n",
       "        vertical-align: top;\n",
       "    }\n",
       "\n",
       "    .dataframe thead th {\n",
       "        text-align: right;\n",
       "    }\n",
       "</style>\n",
       "<table border=\"1\" class=\"dataframe\">\n",
       "  <thead>\n",
       "    <tr style=\"text-align: right;\">\n",
       "      <th></th>\n",
       "      <th>hours_work_paid</th>\n",
       "      <th>age</th>\n",
       "      <th>bmi</th>\n",
       "      <th>residenc</th>\n",
       "      <th>timeclass</th>\n",
       "      <th>BRS_1</th>\n",
       "      <th>BRS_3</th>\n",
       "      <th>BRS_5</th>\n",
       "      <th>belong8</th>\n",
       "      <th>educ_par2</th>\n",
       "      <th>Label</th>\n",
       "      <th>Score</th>\n",
       "    </tr>\n",
       "  </thead>\n",
       "  <tbody>\n",
       "    <tr>\n",
       "      <th>0</th>\n",
       "      <td>0.0</td>\n",
       "      <td>20.0</td>\n",
       "      <td>25.386111</td>\n",
       "      <td>6</td>\n",
       "      <td>2</td>\n",
       "      <td>0</td>\n",
       "      <td>0</td>\n",
       "      <td>0</td>\n",
       "      <td>0</td>\n",
       "      <td>8</td>\n",
       "      <td>0</td>\n",
       "      <td>0.6518</td>\n",
       "    </tr>\n",
       "    <tr>\n",
       "      <th>1</th>\n",
       "      <td>0.0</td>\n",
       "      <td>21.0</td>\n",
       "      <td>21.031478</td>\n",
       "      <td>5</td>\n",
       "      <td>6</td>\n",
       "      <td>0</td>\n",
       "      <td>0</td>\n",
       "      <td>0</td>\n",
       "      <td>0</td>\n",
       "      <td>6</td>\n",
       "      <td>0</td>\n",
       "      <td>0.5489</td>\n",
       "    </tr>\n",
       "    <tr>\n",
       "      <th>2</th>\n",
       "      <td>50.0</td>\n",
       "      <td>35.0</td>\n",
       "      <td>35.296306</td>\n",
       "      <td>5</td>\n",
       "      <td>1</td>\n",
       "      <td>0</td>\n",
       "      <td>0</td>\n",
       "      <td>0</td>\n",
       "      <td>0</td>\n",
       "      <td>6</td>\n",
       "      <td>1</td>\n",
       "      <td>0.5325</td>\n",
       "    </tr>\n",
       "    <tr>\n",
       "      <th>3</th>\n",
       "      <td>0.0</td>\n",
       "      <td>22.0</td>\n",
       "      <td>22.044766</td>\n",
       "      <td>5</td>\n",
       "      <td>6</td>\n",
       "      <td>0</td>\n",
       "      <td>0</td>\n",
       "      <td>0</td>\n",
       "      <td>0</td>\n",
       "      <td>7</td>\n",
       "      <td>0</td>\n",
       "      <td>0.5876</td>\n",
       "    </tr>\n",
       "    <tr>\n",
       "      <th>4</th>\n",
       "      <td>20.0</td>\n",
       "      <td>19.0</td>\n",
       "      <td>26.443866</td>\n",
       "      <td>2</td>\n",
       "      <td>4</td>\n",
       "      <td>0</td>\n",
       "      <td>0</td>\n",
       "      <td>0</td>\n",
       "      <td>0</td>\n",
       "      <td>4</td>\n",
       "      <td>0</td>\n",
       "      <td>0.6135</td>\n",
       "    </tr>\n",
       "  </tbody>\n",
       "</table>\n",
       "</div>"
      ],
      "text/plain": [
       "   hours_work_paid   age        bmi  residenc  timeclass  BRS_1  BRS_3  BRS_5  \\\n",
       "0              0.0  20.0  25.386111         6          2      0      0      0   \n",
       "1              0.0  21.0  21.031478         5          6      0      0      0   \n",
       "2             50.0  35.0  35.296306         5          1      0      0      0   \n",
       "3              0.0  22.0  22.044766         5          6      0      0      0   \n",
       "4             20.0  19.0  26.443866         2          4      0      0      0   \n",
       "\n",
       "   belong8  educ_par2  Label   Score  \n",
       "0        0          8      0  0.6518  \n",
       "1        0          6      0  0.5489  \n",
       "2        0          6      1  0.5325  \n",
       "3        0          7      0  0.5876  \n",
       "4        0          4      0  0.6135  "
      ]
     },
     "execution_count": 52,
     "metadata": {},
     "output_type": "execute_result"
    }
   ],
   "source": [
    "predictions = predict_model(lr, data=data_unseen)\n",
    "predictions.head()"
   ]
  },
  {
   "cell_type": "code",
   "execution_count": 42,
   "metadata": {
    "id": "rWiovAvHqs2k"
   },
   "outputs": [
    {
     "name": "stdout",
     "output_type": "stream",
     "text": [
      "Transformation Pipeline and Model Successfully Saved\n"
     ]
    },
    {
     "data": {
      "text/plain": [
       "(Pipeline(memory=None,\n",
       "          steps=[('dtypes',\n",
       "                  DataTypes_Auto_infer(categorical_features=[],\n",
       "                                       display_types=True, features_todrop=[],\n",
       "                                       id_columns=[],\n",
       "                                       ml_usecase='classification',\n",
       "                                       numerical_features=[], target='dx_dep1',\n",
       "                                       time_features=[])),\n",
       "                 ('imputer',\n",
       "                  Simple_Imputer(categorical_strategy='not_available',\n",
       "                                 fill_value_categorical=None,\n",
       "                                 fill_value_numerical=None,\n",
       "                                 numeric_stra...\n",
       "                                        target_variable='dx_dep1',\n",
       "                                        threshold=0.9)),\n",
       "                 ('dfs', 'passthrough'), ('pca', 'passthrough'),\n",
       "                 ['trained_model',\n",
       "                  LogisticRegression(C=1.0, class_weight=None, dual=False,\n",
       "                                     fit_intercept=True, intercept_scaling=1,\n",
       "                                     l1_ratio=None, max_iter=1000,\n",
       "                                     multi_class='auto', n_jobs=None,\n",
       "                                     penalty='l2', random_state=123,\n",
       "                                     solver='lbfgs', tol=0.0001, verbose=0,\n",
       "                                     warm_start=False)]],\n",
       "          verbose=False),\n",
       " 'log_regr_pipeline_v2.pkl')"
      ]
     },
     "execution_count": 42,
     "metadata": {},
     "output_type": "execute_result"
    }
   ],
   "source": [
    "save_model(lr, 'log_regr_pipeline_v2')"
   ]
  },
  {
   "cell_type": "code",
   "execution_count": 44,
   "metadata": {
    "id": "sDrTIIAiM2Zb"
   },
   "outputs": [
    {
     "data": {
      "text/plain": [
       "1.0"
      ]
     },
     "execution_count": 44,
     "metadata": {},
     "output_type": "execute_result"
    }
   ],
   "source": [
    "predicts = [\"4\", \"22\", \"22\", \"1\", \"1\",\"1\",\"1\",\"1\",\"1\",\"1\"]\n",
    "final = np.array(predicts)\n",
    "cols = [\"hours_work_paid\", \"age\", \"bmi\", \"residenc\", \"timeclass\", \"BRS_1\", \"BRS_3\", \"BRS_5\", \"belong8\", \"educ_par2\"]\n",
    "\n",
    "data_unseen2 = pd.DataFrame([final], columns = cols)\n",
    "prediction = predict_model(lr, data=data_unseen2, round = 0)\n",
    "prediction = prediction.Score[0]\n",
    "prediction"
   ]
  },
  {
   "cell_type": "code",
   "execution_count": null,
   "metadata": {
    "id": "odHOIJn4NKB-"
   },
   "outputs": [],
   "source": []
  }
 ],
 "metadata": {
  "colab": {
   "name": "hms.ipynb",
   "provenance": []
  },
  "kernelspec": {
   "display_name": "Python [conda env:pycaret] *",
   "language": "python",
   "name": "conda-env-pycaret-py"
  },
  "language_info": {
   "codemirror_mode": {
    "name": "ipython",
    "version": 3
   },
   "file_extension": ".py",
   "mimetype": "text/x-python",
   "name": "python",
   "nbconvert_exporter": "python",
   "pygments_lexer": "ipython3",
   "version": "3.9.10"
  }
 },
 "nbformat": 4,
 "nbformat_minor": 4
}
